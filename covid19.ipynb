{
  "nbformat": 4,
  "nbformat_minor": 0,
  "metadata": {
    "colab": {
      "name": "covid19.ipynb",
      "provenance": [],
      "toc_visible": true
    },
    "kernelspec": {
      "name": "python3",
      "display_name": "Python 3"
    },
    "accelerator": "GPU"
  },
  "cells": [
    {
      "cell_type": "markdown",
      "metadata": {
        "id": "7eTqpzIKg6sk",
        "colab_type": "text"
      },
      "source": [
        "# Import Libraries"
      ]
    },
    {
      "cell_type": "code",
      "metadata": {
        "id": "MlURIHIrg8WX",
        "colab_type": "code",
        "colab": {
          "base_uri": "https://localhost:8080/",
          "height": 34
        },
        "outputId": "1493fff5-9565-4508-f034-cdefa91161f1"
      },
      "source": [
        "import numpy as np\n",
        "import pandas as pd\n",
        "import math \n",
        "import matplotlib.pyplot as plt\n",
        "\n",
        "import matplotlib.dates as dt\n",
        "\n",
        "import tensorflow as tf\n",
        "from tensorflow.keras import Input\n",
        "from tensorflow.keras.models import Model\n",
        "from tensorflow.keras import layers\n",
        "from tensorflow.keras.callbacks import ModelCheckpoint, ReduceLROnPlateau, EarlyStopping, LearningRateScheduler\n",
        "from keras.preprocessing.sequence import TimeseriesGenerator\n",
        "from keras.models import Sequential\n",
        "from keras.layers import Dense, Activation, LSTM, Dropout, LeakyReLU\n",
        "from tensorflow.keras.optimizers import Adam,SGD,Adagrad,Adadelta,RMSprop\n",
        "\n",
        "from sklearn.metrics import mean_squared_error\n",
        "from sklearn.preprocessing import MinMaxScaler\n",
        "\n",
        "import time\n",
        "from datetime import datetime, timedelta\n"
      ],
      "execution_count": 1,
      "outputs": [
        {
          "output_type": "stream",
          "text": [
            "Using TensorFlow backend.\n"
          ],
          "name": "stderr"
        }
      ]
    },
    {
      "cell_type": "markdown",
      "metadata": {
        "id": "dqjByd23g9Jm",
        "colab_type": "text"
      },
      "source": [
        "# Load Datasets"
      ]
    },
    {
      "cell_type": "code",
      "metadata": {
        "id": "Q0amgwNDhA3D",
        "colab_type": "code",
        "colab": {}
      },
      "source": [
        "df_confirmed = pd.read_csv(\"drive/My Drive/ECE657A/Coronavirus/time_series_covid19_confirmed_global.csv\")\n",
        "df_recovered = pd.read_csv(\"drive/My Drive/ECE657A/Coronavirus/time_series_covid19_recovered_global.csv\")\n",
        "df_deaths = pd.read_csv(\"drive/My Drive/ECE657A/Coronavirus/time_series_covid19_deaths_global.csv\")\n"
      ],
      "execution_count": 0,
      "outputs": []
    },
    {
      "cell_type": "code",
      "metadata": {
        "id": "DIT0URXSha7-",
        "colab_type": "code",
        "outputId": "814144d7-fce8-4116-dd89-d9e286a8dd6b",
        "colab": {
          "base_uri": "https://localhost:8080/",
          "height": 215
        }
      },
      "source": [
        "df_deaths.head()"
      ],
      "execution_count": 3,
      "outputs": [
        {
          "output_type": "execute_result",
          "data": {
            "text/html": [
              "<div>\n",
              "<style scoped>\n",
              "    .dataframe tbody tr th:only-of-type {\n",
              "        vertical-align: middle;\n",
              "    }\n",
              "\n",
              "    .dataframe tbody tr th {\n",
              "        vertical-align: top;\n",
              "    }\n",
              "\n",
              "    .dataframe thead th {\n",
              "        text-align: right;\n",
              "    }\n",
              "</style>\n",
              "<table border=\"1\" class=\"dataframe\">\n",
              "  <thead>\n",
              "    <tr style=\"text-align: right;\">\n",
              "      <th></th>\n",
              "      <th>Province/State</th>\n",
              "      <th>Country/Region</th>\n",
              "      <th>Lat</th>\n",
              "      <th>Long</th>\n",
              "      <th>1/22/20</th>\n",
              "      <th>1/23/20</th>\n",
              "      <th>1/24/20</th>\n",
              "      <th>1/25/20</th>\n",
              "      <th>1/26/20</th>\n",
              "      <th>1/27/20</th>\n",
              "      <th>1/28/20</th>\n",
              "      <th>1/29/20</th>\n",
              "      <th>1/30/20</th>\n",
              "      <th>1/31/20</th>\n",
              "      <th>2/1/20</th>\n",
              "      <th>2/2/20</th>\n",
              "      <th>2/3/20</th>\n",
              "      <th>2/4/20</th>\n",
              "      <th>2/5/20</th>\n",
              "      <th>2/6/20</th>\n",
              "      <th>2/7/20</th>\n",
              "      <th>2/8/20</th>\n",
              "      <th>2/9/20</th>\n",
              "      <th>2/10/20</th>\n",
              "      <th>2/11/20</th>\n",
              "      <th>2/12/20</th>\n",
              "      <th>2/13/20</th>\n",
              "      <th>2/14/20</th>\n",
              "      <th>2/15/20</th>\n",
              "      <th>2/16/20</th>\n",
              "      <th>2/17/20</th>\n",
              "      <th>2/18/20</th>\n",
              "      <th>2/19/20</th>\n",
              "      <th>2/20/20</th>\n",
              "      <th>2/21/20</th>\n",
              "      <th>2/22/20</th>\n",
              "      <th>2/23/20</th>\n",
              "      <th>2/24/20</th>\n",
              "      <th>2/25/20</th>\n",
              "      <th>2/26/20</th>\n",
              "      <th>2/27/20</th>\n",
              "      <th>2/28/20</th>\n",
              "      <th>2/29/20</th>\n",
              "      <th>3/1/20</th>\n",
              "      <th>3/2/20</th>\n",
              "      <th>3/3/20</th>\n",
              "      <th>3/4/20</th>\n",
              "      <th>3/5/20</th>\n",
              "      <th>3/6/20</th>\n",
              "      <th>3/7/20</th>\n",
              "      <th>3/8/20</th>\n",
              "      <th>3/9/20</th>\n",
              "      <th>3/10/20</th>\n",
              "      <th>3/11/20</th>\n",
              "      <th>3/12/20</th>\n",
              "      <th>3/13/20</th>\n",
              "      <th>3/14/20</th>\n",
              "      <th>3/15/20</th>\n",
              "      <th>3/16/20</th>\n",
              "      <th>3/17/20</th>\n",
              "      <th>3/18/20</th>\n",
              "      <th>3/19/20</th>\n",
              "      <th>3/20/20</th>\n",
              "      <th>3/21/20</th>\n",
              "      <th>3/22/20</th>\n",
              "      <th>3/23/20</th>\n",
              "      <th>3/24/20</th>\n",
              "      <th>3/25/20</th>\n",
              "      <th>3/26/20</th>\n",
              "      <th>3/27/20</th>\n",
              "      <th>3/28/20</th>\n",
              "      <th>3/29/20</th>\n",
              "      <th>3/30/20</th>\n",
              "      <th>3/31/20</th>\n",
              "      <th>4/1/20</th>\n",
              "      <th>4/2/20</th>\n",
              "      <th>4/3/20</th>\n",
              "    </tr>\n",
              "  </thead>\n",
              "  <tbody>\n",
              "    <tr>\n",
              "      <th>0</th>\n",
              "      <td>NaN</td>\n",
              "      <td>Afghanistan</td>\n",
              "      <td>33.0000</td>\n",
              "      <td>65.0000</td>\n",
              "      <td>0</td>\n",
              "      <td>0</td>\n",
              "      <td>0</td>\n",
              "      <td>0</td>\n",
              "      <td>0</td>\n",
              "      <td>0</td>\n",
              "      <td>0</td>\n",
              "      <td>0</td>\n",
              "      <td>0</td>\n",
              "      <td>0</td>\n",
              "      <td>0</td>\n",
              "      <td>0</td>\n",
              "      <td>0</td>\n",
              "      <td>0</td>\n",
              "      <td>0</td>\n",
              "      <td>0</td>\n",
              "      <td>0</td>\n",
              "      <td>0</td>\n",
              "      <td>0</td>\n",
              "      <td>0</td>\n",
              "      <td>0</td>\n",
              "      <td>0</td>\n",
              "      <td>0</td>\n",
              "      <td>0</td>\n",
              "      <td>0</td>\n",
              "      <td>0</td>\n",
              "      <td>0</td>\n",
              "      <td>0</td>\n",
              "      <td>0</td>\n",
              "      <td>0</td>\n",
              "      <td>0</td>\n",
              "      <td>0</td>\n",
              "      <td>0</td>\n",
              "      <td>0</td>\n",
              "      <td>0</td>\n",
              "      <td>0</td>\n",
              "      <td>0</td>\n",
              "      <td>0</td>\n",
              "      <td>0</td>\n",
              "      <td>0</td>\n",
              "      <td>0</td>\n",
              "      <td>0</td>\n",
              "      <td>0</td>\n",
              "      <td>0</td>\n",
              "      <td>0</td>\n",
              "      <td>0</td>\n",
              "      <td>0</td>\n",
              "      <td>0</td>\n",
              "      <td>0</td>\n",
              "      <td>0</td>\n",
              "      <td>0</td>\n",
              "      <td>0</td>\n",
              "      <td>0</td>\n",
              "      <td>0</td>\n",
              "      <td>0</td>\n",
              "      <td>0</td>\n",
              "      <td>0</td>\n",
              "      <td>0</td>\n",
              "      <td>0</td>\n",
              "      <td>0</td>\n",
              "      <td>1</td>\n",
              "      <td>1</td>\n",
              "      <td>1</td>\n",
              "      <td>2</td>\n",
              "      <td>4</td>\n",
              "      <td>4</td>\n",
              "      <td>4</td>\n",
              "      <td>4</td>\n",
              "      <td>4</td>\n",
              "      <td>4</td>\n",
              "      <td>4</td>\n",
              "      <td>6</td>\n",
              "      <td>6</td>\n",
              "    </tr>\n",
              "    <tr>\n",
              "      <th>1</th>\n",
              "      <td>NaN</td>\n",
              "      <td>Albania</td>\n",
              "      <td>41.1533</td>\n",
              "      <td>20.1683</td>\n",
              "      <td>0</td>\n",
              "      <td>0</td>\n",
              "      <td>0</td>\n",
              "      <td>0</td>\n",
              "      <td>0</td>\n",
              "      <td>0</td>\n",
              "      <td>0</td>\n",
              "      <td>0</td>\n",
              "      <td>0</td>\n",
              "      <td>0</td>\n",
              "      <td>0</td>\n",
              "      <td>0</td>\n",
              "      <td>0</td>\n",
              "      <td>0</td>\n",
              "      <td>0</td>\n",
              "      <td>0</td>\n",
              "      <td>0</td>\n",
              "      <td>0</td>\n",
              "      <td>0</td>\n",
              "      <td>0</td>\n",
              "      <td>0</td>\n",
              "      <td>0</td>\n",
              "      <td>0</td>\n",
              "      <td>0</td>\n",
              "      <td>0</td>\n",
              "      <td>0</td>\n",
              "      <td>0</td>\n",
              "      <td>0</td>\n",
              "      <td>0</td>\n",
              "      <td>0</td>\n",
              "      <td>0</td>\n",
              "      <td>0</td>\n",
              "      <td>0</td>\n",
              "      <td>0</td>\n",
              "      <td>0</td>\n",
              "      <td>0</td>\n",
              "      <td>0</td>\n",
              "      <td>0</td>\n",
              "      <td>0</td>\n",
              "      <td>0</td>\n",
              "      <td>0</td>\n",
              "      <td>0</td>\n",
              "      <td>0</td>\n",
              "      <td>0</td>\n",
              "      <td>0</td>\n",
              "      <td>0</td>\n",
              "      <td>0</td>\n",
              "      <td>0</td>\n",
              "      <td>0</td>\n",
              "      <td>1</td>\n",
              "      <td>1</td>\n",
              "      <td>1</td>\n",
              "      <td>1</td>\n",
              "      <td>1</td>\n",
              "      <td>1</td>\n",
              "      <td>1</td>\n",
              "      <td>2</td>\n",
              "      <td>2</td>\n",
              "      <td>2</td>\n",
              "      <td>2</td>\n",
              "      <td>2</td>\n",
              "      <td>4</td>\n",
              "      <td>5</td>\n",
              "      <td>5</td>\n",
              "      <td>6</td>\n",
              "      <td>8</td>\n",
              "      <td>10</td>\n",
              "      <td>10</td>\n",
              "      <td>11</td>\n",
              "      <td>15</td>\n",
              "      <td>15</td>\n",
              "      <td>16</td>\n",
              "      <td>17</td>\n",
              "    </tr>\n",
              "    <tr>\n",
              "      <th>2</th>\n",
              "      <td>NaN</td>\n",
              "      <td>Algeria</td>\n",
              "      <td>28.0339</td>\n",
              "      <td>1.6596</td>\n",
              "      <td>0</td>\n",
              "      <td>0</td>\n",
              "      <td>0</td>\n",
              "      <td>0</td>\n",
              "      <td>0</td>\n",
              "      <td>0</td>\n",
              "      <td>0</td>\n",
              "      <td>0</td>\n",
              "      <td>0</td>\n",
              "      <td>0</td>\n",
              "      <td>0</td>\n",
              "      <td>0</td>\n",
              "      <td>0</td>\n",
              "      <td>0</td>\n",
              "      <td>0</td>\n",
              "      <td>0</td>\n",
              "      <td>0</td>\n",
              "      <td>0</td>\n",
              "      <td>0</td>\n",
              "      <td>0</td>\n",
              "      <td>0</td>\n",
              "      <td>0</td>\n",
              "      <td>0</td>\n",
              "      <td>0</td>\n",
              "      <td>0</td>\n",
              "      <td>0</td>\n",
              "      <td>0</td>\n",
              "      <td>0</td>\n",
              "      <td>0</td>\n",
              "      <td>0</td>\n",
              "      <td>0</td>\n",
              "      <td>0</td>\n",
              "      <td>0</td>\n",
              "      <td>0</td>\n",
              "      <td>0</td>\n",
              "      <td>0</td>\n",
              "      <td>0</td>\n",
              "      <td>0</td>\n",
              "      <td>0</td>\n",
              "      <td>0</td>\n",
              "      <td>0</td>\n",
              "      <td>0</td>\n",
              "      <td>0</td>\n",
              "      <td>0</td>\n",
              "      <td>0</td>\n",
              "      <td>0</td>\n",
              "      <td>0</td>\n",
              "      <td>0</td>\n",
              "      <td>0</td>\n",
              "      <td>0</td>\n",
              "      <td>1</td>\n",
              "      <td>2</td>\n",
              "      <td>3</td>\n",
              "      <td>4</td>\n",
              "      <td>4</td>\n",
              "      <td>4</td>\n",
              "      <td>7</td>\n",
              "      <td>9</td>\n",
              "      <td>11</td>\n",
              "      <td>15</td>\n",
              "      <td>17</td>\n",
              "      <td>17</td>\n",
              "      <td>19</td>\n",
              "      <td>21</td>\n",
              "      <td>25</td>\n",
              "      <td>26</td>\n",
              "      <td>29</td>\n",
              "      <td>31</td>\n",
              "      <td>35</td>\n",
              "      <td>44</td>\n",
              "      <td>58</td>\n",
              "      <td>86</td>\n",
              "      <td>105</td>\n",
              "    </tr>\n",
              "    <tr>\n",
              "      <th>3</th>\n",
              "      <td>NaN</td>\n",
              "      <td>Andorra</td>\n",
              "      <td>42.5063</td>\n",
              "      <td>1.5218</td>\n",
              "      <td>0</td>\n",
              "      <td>0</td>\n",
              "      <td>0</td>\n",
              "      <td>0</td>\n",
              "      <td>0</td>\n",
              "      <td>0</td>\n",
              "      <td>0</td>\n",
              "      <td>0</td>\n",
              "      <td>0</td>\n",
              "      <td>0</td>\n",
              "      <td>0</td>\n",
              "      <td>0</td>\n",
              "      <td>0</td>\n",
              "      <td>0</td>\n",
              "      <td>0</td>\n",
              "      <td>0</td>\n",
              "      <td>0</td>\n",
              "      <td>0</td>\n",
              "      <td>0</td>\n",
              "      <td>0</td>\n",
              "      <td>0</td>\n",
              "      <td>0</td>\n",
              "      <td>0</td>\n",
              "      <td>0</td>\n",
              "      <td>0</td>\n",
              "      <td>0</td>\n",
              "      <td>0</td>\n",
              "      <td>0</td>\n",
              "      <td>0</td>\n",
              "      <td>0</td>\n",
              "      <td>0</td>\n",
              "      <td>0</td>\n",
              "      <td>0</td>\n",
              "      <td>0</td>\n",
              "      <td>0</td>\n",
              "      <td>0</td>\n",
              "      <td>0</td>\n",
              "      <td>0</td>\n",
              "      <td>0</td>\n",
              "      <td>0</td>\n",
              "      <td>0</td>\n",
              "      <td>0</td>\n",
              "      <td>0</td>\n",
              "      <td>0</td>\n",
              "      <td>0</td>\n",
              "      <td>0</td>\n",
              "      <td>0</td>\n",
              "      <td>0</td>\n",
              "      <td>0</td>\n",
              "      <td>0</td>\n",
              "      <td>0</td>\n",
              "      <td>0</td>\n",
              "      <td>0</td>\n",
              "      <td>0</td>\n",
              "      <td>0</td>\n",
              "      <td>0</td>\n",
              "      <td>0</td>\n",
              "      <td>0</td>\n",
              "      <td>0</td>\n",
              "      <td>0</td>\n",
              "      <td>1</td>\n",
              "      <td>1</td>\n",
              "      <td>1</td>\n",
              "      <td>1</td>\n",
              "      <td>3</td>\n",
              "      <td>3</td>\n",
              "      <td>3</td>\n",
              "      <td>6</td>\n",
              "      <td>8</td>\n",
              "      <td>12</td>\n",
              "      <td>14</td>\n",
              "      <td>15</td>\n",
              "      <td>16</td>\n",
              "    </tr>\n",
              "    <tr>\n",
              "      <th>4</th>\n",
              "      <td>NaN</td>\n",
              "      <td>Angola</td>\n",
              "      <td>-11.2027</td>\n",
              "      <td>17.8739</td>\n",
              "      <td>0</td>\n",
              "      <td>0</td>\n",
              "      <td>0</td>\n",
              "      <td>0</td>\n",
              "      <td>0</td>\n",
              "      <td>0</td>\n",
              "      <td>0</td>\n",
              "      <td>0</td>\n",
              "      <td>0</td>\n",
              "      <td>0</td>\n",
              "      <td>0</td>\n",
              "      <td>0</td>\n",
              "      <td>0</td>\n",
              "      <td>0</td>\n",
              "      <td>0</td>\n",
              "      <td>0</td>\n",
              "      <td>0</td>\n",
              "      <td>0</td>\n",
              "      <td>0</td>\n",
              "      <td>0</td>\n",
              "      <td>0</td>\n",
              "      <td>0</td>\n",
              "      <td>0</td>\n",
              "      <td>0</td>\n",
              "      <td>0</td>\n",
              "      <td>0</td>\n",
              "      <td>0</td>\n",
              "      <td>0</td>\n",
              "      <td>0</td>\n",
              "      <td>0</td>\n",
              "      <td>0</td>\n",
              "      <td>0</td>\n",
              "      <td>0</td>\n",
              "      <td>0</td>\n",
              "      <td>0</td>\n",
              "      <td>0</td>\n",
              "      <td>0</td>\n",
              "      <td>0</td>\n",
              "      <td>0</td>\n",
              "      <td>0</td>\n",
              "      <td>0</td>\n",
              "      <td>0</td>\n",
              "      <td>0</td>\n",
              "      <td>0</td>\n",
              "      <td>0</td>\n",
              "      <td>0</td>\n",
              "      <td>0</td>\n",
              "      <td>0</td>\n",
              "      <td>0</td>\n",
              "      <td>0</td>\n",
              "      <td>0</td>\n",
              "      <td>0</td>\n",
              "      <td>0</td>\n",
              "      <td>0</td>\n",
              "      <td>0</td>\n",
              "      <td>0</td>\n",
              "      <td>0</td>\n",
              "      <td>0</td>\n",
              "      <td>0</td>\n",
              "      <td>0</td>\n",
              "      <td>0</td>\n",
              "      <td>0</td>\n",
              "      <td>0</td>\n",
              "      <td>0</td>\n",
              "      <td>0</td>\n",
              "      <td>0</td>\n",
              "      <td>0</td>\n",
              "      <td>2</td>\n",
              "      <td>2</td>\n",
              "      <td>2</td>\n",
              "      <td>2</td>\n",
              "      <td>2</td>\n",
              "      <td>2</td>\n",
              "    </tr>\n",
              "  </tbody>\n",
              "</table>\n",
              "</div>"
            ],
            "text/plain": [
              "  Province/State Country/Region      Lat  ...  4/1/20  4/2/20  4/3/20\n",
              "0            NaN    Afghanistan  33.0000  ...       4       6       6\n",
              "1            NaN        Albania  41.1533  ...      15      16      17\n",
              "2            NaN        Algeria  28.0339  ...      58      86     105\n",
              "3            NaN        Andorra  42.5063  ...      14      15      16\n",
              "4            NaN         Angola -11.2027  ...       2       2       2\n",
              "\n",
              "[5 rows x 77 columns]"
            ]
          },
          "metadata": {
            "tags": []
          },
          "execution_count": 3
        }
      ]
    },
    {
      "cell_type": "markdown",
      "metadata": {
        "id": "TCimVoo9heAq",
        "colab_type": "text"
      },
      "source": [
        "# Data preprocessing\n",
        "\n",
        "We drop the unwanted columns which we won't be using for our neural network computations."
      ]
    },
    {
      "cell_type": "code",
      "metadata": {
        "id": "NnAxyiTkhftm",
        "colab_type": "code",
        "colab": {}
      },
      "source": [
        "def restructure(df):\n",
        "    df['Country'] = df['Country/Region'].map(str) + '_' + df['Province/State'].map(str)\n",
        "    df =  df.drop(['Province/State', 'Country/Region' , 'Lat' , 'Long'], axis=1)\n",
        "    df = df.set_index('Country')\n",
        "    df = df.T\n",
        "    df = df.fillna(0)\n",
        "    return df"
      ],
      "execution_count": 0,
      "outputs": []
    },
    {
      "cell_type": "markdown",
      "metadata": {
        "id": "Nt69dSPxSd4B",
        "colab_type": "text"
      },
      "source": [
        "Next, we take each dataset for confirmed cases, recovered cases and deaths and convert them into a time-series dataframe"
      ]
    },
    {
      "cell_type": "code",
      "metadata": {
        "id": "qGG4oXcnib_W",
        "colab_type": "code",
        "colab": {}
      },
      "source": [
        "# Create dataframes for each category\n",
        "confirmed = restructure(df_confirmed)\n",
        "confirmed.index = pd.to_datetime(confirmed.index)\n",
        "\n",
        "recovered = restructure(df_recovered)\n",
        "recovered.index = pd.to_datetime(recovered.index)\n",
        "\n",
        "deaths = restructure(df_deaths)\n",
        "deaths.index = pd.to_datetime(deaths.index)\n",
        "\n",
        "# Create dataframes for the world\n",
        "world_conf = confirmed.sum(axis=1)\n",
        "world_recv = recovered.sum(axis=1)\n",
        "world_dead = deaths.sum(axis=1)"
      ],
      "execution_count": 0,
      "outputs": []
    },
    {
      "cell_type": "code",
      "metadata": {
        "id": "mGtbyIcFKRlD",
        "colab_type": "code",
        "colab": {
          "base_uri": "https://localhost:8080/",
          "height": 118
        },
        "outputId": "8837101e-cae8-4dba-cca3-d435f63a63a0"
      },
      "source": [
        "world_conf.tail()"
      ],
      "execution_count": 177,
      "outputs": [
        {
          "output_type": "execute_result",
          "data": {
            "text/plain": [
              "2020-03-30     782365\n",
              "2020-03-31     857487\n",
              "2020-04-01     932605\n",
              "2020-04-02    1013157\n",
              "2020-04-03    1095917\n",
              "dtype: int64"
            ]
          },
          "metadata": {
            "tags": []
          },
          "execution_count": 177
        }
      ]
    },
    {
      "cell_type": "markdown",
      "metadata": {
        "id": "By6jGtxPq2BC",
        "colab_type": "text"
      },
      "source": [
        "# Plots\n",
        "\n",
        "We plot the cases in 3 countries and also plot total worldwide cases"
      ]
    },
    {
      "cell_type": "code",
      "metadata": {
        "id": "WvmgDHOfmWTo",
        "colab_type": "code",
        "colab": {}
      },
      "source": [
        "# Creating a new dataframe for Countries\n",
        "italy = pd.DataFrame()\n",
        "india = pd.DataFrame()\n",
        "germany = pd.DataFrame()\n",
        "\n",
        "italy['Confirmed'] = confirmed['Italy_nan']\n",
        "italy['Recovered'] = recovered['Italy_nan']\n",
        "italy['Deaths'] = deaths['Italy_nan']\n",
        "\n",
        "\n",
        "india['Confirmed'] = confirmed['India_nan']\n",
        "india['Recovered'] = recovered['India_nan']\n",
        "india['Deaths'] = deaths['India_nan']\n",
        "\n",
        "germany['Confirmed'] = confirmed['Germany_nan']\n",
        "germany['Recovered'] = recovered['Germany_nan']\n",
        "germany['Deaths'] = deaths['Germany_nan']\n",
        "\n"
      ],
      "execution_count": 0,
      "outputs": []
    },
    {
      "cell_type": "code",
      "metadata": {
        "id": "3PLjG6WimWYE",
        "colab_type": "code",
        "outputId": "e3c3a2d2-506e-4039-8ad3-a8add0028823",
        "colab": {
          "base_uri": "https://localhost:8080/",
          "height": 917
        }
      },
      "source": [
        "# Plots for Italy, India, Germany and The WORLD\n",
        "fig = plt.figure(figsize=(15,15))\n",
        "\n",
        "plt.subplot(2,2,1)\n",
        "plt.plot(italy.Confirmed, label='Confirmed Cases')\n",
        "plt.plot(italy.Recovered, label='Recovered Cases')\n",
        "plt.plot(italy.Deaths, label='Deaths')\n",
        "plt.xlabel('Dates', fontsize=15)\n",
        "plt.ylabel('Population Count', fontsize=15)\n",
        "plt.title('Statistics of ITALY', fontsize=15)\n",
        "plt.legend()\n",
        "\n",
        "plt.subplot(2,2,2)\n",
        "plt.plot(india.Confirmed, label='Confirmed Cases')\n",
        "plt.plot(india.Recovered, label='Recovered Cases')\n",
        "plt.plot(india.Deaths, label='Deaths')\n",
        "plt.xlabel('Dates', fontsize=15)\n",
        "plt.ylabel('Population Count', fontsize=15)\n",
        "plt.title('Statistics of INDIA', fontsize=15)\n",
        "plt.legend()\n",
        "\n",
        "plt.subplot(2,2,3)\n",
        "plt.plot(germany.Confirmed, label='Confirmed Cases')\n",
        "plt.plot(germany.Recovered, label='Recovered Cases')\n",
        "plt.plot(germany.Deaths, label='Deaths')\n",
        "plt.xlabel('Dates', fontsize=15)\n",
        "plt.ylabel('Population Count', fontsize=15)\n",
        "plt.title('Statistics of GERMANY', fontsize=15)\n",
        "plt.legend()\n",
        "\n",
        "plt.subplot(2,2,4)\n",
        "plt.plot(world_conf.iloc[:], label='World Confirmed Cases ')\n",
        "plt.plot(world_recv.iloc[:], label='World Recovered Cases')\n",
        "plt.plot(world_dead.iloc[:], label='World Deaths')\n",
        "plt.xlabel('Dates', fontsize=15)\n",
        "plt.ylabel('Population Count', fontsize=15)\n",
        "plt.title('Statistics of World', fontsize=15)\n",
        "plt.legend()"
      ],
      "execution_count": 284,
      "outputs": [
        {
          "output_type": "execute_result",
          "data": {
            "text/plain": [
              "<matplotlib.legend.Legend at 0x7f8ead1d8dd8>"
            ]
          },
          "metadata": {
            "tags": []
          },
          "execution_count": 284
        },
        {
          "output_type": "display_data",
          "data": {
            "image/png": "[encoded data removed]",
            "text/plain": [
              "<Figure size 1080x1080 with 4 Axes>"
            ]
          },
          "metadata": {
            "tags": [],
            "needs_background": "light"
          }
        }
      ]
    },
    {
      "cell_type": "markdown",
      "metadata": {
        "id": "n7Drq35VU2vT",
        "colab_type": "text"
      },
      "source": [
        "Now we plot Global Top 10 regions in each category"
      ]
    },
    {
      "cell_type": "code",
      "metadata": {
        "id": "-_nDUFxb7Zr8",
        "colab_type": "code",
        "outputId": "ae24beab-7695-4f0e-cfc2-579ced5aa9f9",
        "colab": {
          "base_uri": "https://localhost:8080/",
          "height": 1000
        }
      },
      "source": [
        "# Plot Global top 10 regions\n",
        "\n",
        "# fig = plt.figure(figsize=(12,18))\n",
        "\n",
        "conf_sort = confirmed.reindex(confirmed.max().sort_values(ascending=False).index, axis=1)\n",
        "conf_top = conf_sort.iloc[:,0:10]\n",
        "\n",
        "rec_sort = recovered.reindex(recovered.max().sort_values(ascending=False).index, axis=1)\n",
        "rec_top = rec_sort.iloc[:,0:10]\n",
        "\n",
        "dead_sort = deaths.reindex(deaths.max().sort_values(ascending=False).index, axis=1)\n",
        "dead_top = dead_sort.iloc[:,0:10]\n",
        "\n",
        "conf_top.plot(figsize=(12,5))\n",
        "plt.title('Confirmed Cases in most affected areas', fontsize=15)\n",
        "\n",
        "rec_top.plot(figsize=(12,5))\n",
        "plt.title('Recovered Cases in most affected areas', fontsize=15)\n",
        "\n",
        "dead_top.plot(figsize=(12,5))\n",
        "plt.title('Deaths in most affected areas', fontsize=15)"
      ],
      "execution_count": 82,
      "outputs": [
        {
          "output_type": "execute_result",
          "data": {
            "text/plain": [
              "Text(0.5, 1.0, 'Deaths in most affected areas')"
            ]
          },
          "metadata": {
            "tags": []
          },
          "execution_count": 82
        },
        {
          "output_type": "display_data",
          "data": {
            "image/png": "[encoded data removed]",
            "text/plain": [
              "<Figure size 864x360 with 1 Axes>"
            ]
          },
          "metadata": {
            "tags": [],
            "needs_background": "light"
          }
        },
        {
          "output_type": "display_data",
          "data": {
            "image/png": "[encoded data removed]",
            "text/plain": [
              "<Figure size 864x360 with 1 Axes>"
            ]
          },
          "metadata": {
            "tags": [],
            "needs_background": "light"
          }
        },
        {
          "output_type": "display_data",
          "data": {
            "image/png": "[encoded data removed]",
            "text/plain": [
              "<Figure size 864x360 with 1 Axes>"
            ]
          },
          "metadata": {
            "tags": [],
            "needs_background": "light"
          }
        }
      ]
    },
    {
      "cell_type": "markdown",
      "metadata": {
        "id": "nB9fDH_N2e11",
        "colab_type": "text"
      },
      "source": [
        "# Italy\n",
        "\n",
        "Here, we will be training an LSTM Model on our time-series data.\n",
        "We will split our data in each category into train and test. <br>\n",
        "Then we will try training our model and plot the predicted train and test values. <br>\n",
        "Once satisfied with the performance, we will use the same model to compute future trends and predict the spread of virus among the population for a set number of days."
      ]
    },
    {
      "cell_type": "code",
      "metadata": {
        "id": "6lkxW9WZWYwj",
        "colab_type": "code",
        "outputId": "9d3c4d7e-1a2e-45b1-8caa-b09ae562f3ac",
        "colab": {
          "base_uri": "https://localhost:8080/",
          "height": 195
        }
      },
      "source": [
        "italy.tail()"
      ],
      "execution_count": 283,
      "outputs": [
        {
          "output_type": "execute_result",
          "data": {
            "text/html": [
              "<div>\n",
              "<style scoped>\n",
              "    .dataframe tbody tr th:only-of-type {\n",
              "        vertical-align: middle;\n",
              "    }\n",
              "\n",
              "    .dataframe tbody tr th {\n",
              "        vertical-align: top;\n",
              "    }\n",
              "\n",
              "    .dataframe thead th {\n",
              "        text-align: right;\n",
              "    }\n",
              "</style>\n",
              "<table border=\"1\" class=\"dataframe\">\n",
              "  <thead>\n",
              "    <tr style=\"text-align: right;\">\n",
              "      <th></th>\n",
              "      <th>Confirmed</th>\n",
              "      <th>Recovered</th>\n",
              "      <th>Deaths</th>\n",
              "    </tr>\n",
              "  </thead>\n",
              "  <tbody>\n",
              "    <tr>\n",
              "      <th>2020-03-30</th>\n",
              "      <td>101739</td>\n",
              "      <td>14620</td>\n",
              "      <td>11591</td>\n",
              "    </tr>\n",
              "    <tr>\n",
              "      <th>2020-03-31</th>\n",
              "      <td>105792</td>\n",
              "      <td>15729</td>\n",
              "      <td>12428</td>\n",
              "    </tr>\n",
              "    <tr>\n",
              "      <th>2020-04-01</th>\n",
              "      <td>110574</td>\n",
              "      <td>16847</td>\n",
              "      <td>13155</td>\n",
              "    </tr>\n",
              "    <tr>\n",
              "      <th>2020-04-02</th>\n",
              "      <td>115242</td>\n",
              "      <td>18278</td>\n",
              "      <td>13915</td>\n",
              "    </tr>\n",
              "    <tr>\n",
              "      <th>2020-04-03</th>\n",
              "      <td>119827</td>\n",
              "      <td>19758</td>\n",
              "      <td>14681</td>\n",
              "    </tr>\n",
              "  </tbody>\n",
              "</table>\n",
              "</div>"
            ],
            "text/plain": [
              "            Confirmed  Recovered  Deaths\n",
              "2020-03-30     101739      14620   11591\n",
              "2020-03-31     105792      15729   12428\n",
              "2020-04-01     110574      16847   13155\n",
              "2020-04-02     115242      18278   13915\n",
              "2020-04-03     119827      19758   14681"
            ]
          },
          "metadata": {
            "tags": []
          },
          "execution_count": 283
        }
      ]
    },
    {
      "cell_type": "code",
      "metadata": {
        "id": "UxHgm3Lhf9b_",
        "colab_type": "code",
        "colab": {}
      },
      "source": [
        "# convert an array of values into a dataset matrix\n",
        "def create_dataset(dataset, look_back):\n",
        "    dataX = []\n",
        "    dataY = []\n",
        "    print(len(dataset))\n",
        "    for i in range(len(dataset)-look_back-1):\n",
        "        a = dataset[i:(i+look_back)]\n",
        "        dataX.append(a)\n",
        "        dataY.append(dataset[i + look_back])\n",
        "        \n",
        "    return np.array(dataX), np.array(dataY)"
      ],
      "execution_count": 0,
      "outputs": []
    },
    {
      "cell_type": "code",
      "metadata": {
        "id": "uOjohlcNmQag",
        "colab_type": "code",
        "colab": {}
      },
      "source": [
        "italy_confirmed = italy.iloc[:,0]\n",
        "\n",
        "italy_recovered = italy.iloc[:,1]\n",
        "\n",
        "italy_dead = italy.iloc[:,2]"
      ],
      "execution_count": 0,
      "outputs": []
    },
    {
      "cell_type": "markdown",
      "metadata": {
        "id": "9vpwUJj_2Yr5",
        "colab_type": "text"
      },
      "source": [
        "### For Confirmed Cases"
      ]
    },
    {
      "cell_type": "code",
      "metadata": {
        "id": "o7fmslmFWJs_",
        "colab_type": "code",
        "outputId": "993eeb4e-8ab0-4f45-86c1-f7e4140a0cf3",
        "colab": {
          "base_uri": "https://localhost:8080/",
          "height": 50
        }
      },
      "source": [
        "# Split the series for training and testing\n",
        "size = italy_confirmed.shape[0]\n",
        "tr =int(round(size*0.8))\n",
        "X_train, X_test = italy_confirmed[:tr] , italy_confirmed[tr:]\n",
        "\n",
        "# Reshape the series for further computations\n",
        "X_train = X_train.values.reshape(-1,1)\n",
        "X_test = X_test.values.reshape(-1,1)\n",
        "\n",
        "# Create train and test windows\n",
        "look_back = 6\n",
        "trainX, trainY = create_dataset(X_train, look_back)\n",
        "testX, testY = create_dataset(X_test, look_back)\n",
        "\n",
        "# reshape input to be [samples, time steps, features] for LSTM\n",
        "trainX = np.reshape(trainX, (trainX.shape[0], 1, trainX.shape[1]))\n",
        "testX = np.reshape(testX, (testX.shape[0], 1, testX.shape[1]))\n"
      ],
      "execution_count": 86,
      "outputs": [
        {
          "output_type": "stream",
          "text": [
            "58\n",
            "15\n"
          ],
          "name": "stdout"
        }
      ]
    },
    {
      "cell_type": "markdown",
      "metadata": {
        "id": "hOdM42tvVkgN",
        "colab_type": "text"
      },
      "source": [
        "Train the LSTM Model"
      ]
    },
    {
      "cell_type": "code",
      "metadata": {
        "id": "SxiE9BcalDsi",
        "colab_type": "code",
        "outputId": "ecbba6d7-7eb0-47d5-b947-d7026201b938",
        "colab": {
          "base_uri": "https://localhost:8080/",
          "height": 1000
        }
      },
      "source": [
        "# create and fit the LSTM network\n",
        "model = Sequential()\n",
        "\n",
        "model.add(LSTM(200, input_shape=(1, look_back), activation='relu', dropout=0.2))\n",
        "\n",
        "model.add(Dense(1, activation=LeakyReLU(alpha=0.1)))\n",
        "model.summary()\n",
        "\n",
        "opt = Adam(lr=0.001, beta_1=0.9, beta_2=0.999 )\n",
        "\n",
        "model.compile(loss='mean_squared_error', optimizer=opt)\n",
        "\n",
        "start = time.time()\n",
        "model.fit(trainX, trainY, epochs=100, batch_size=1, verbose=1)\n",
        "end = time.time()\n",
        "\n",
        "runtime = end-start\n",
        "print('Runtime: ', runtime, 'seconds')"
      ],
      "execution_count": 87,
      "outputs": [
        {
          "output_type": "stream",
          "text": [
            "/usr/local/lib/python3.6/dist-packages/keras/activations.py:235: UserWarning: Do not pass a layer instance (such as LeakyReLU) as the activation argument of another layer. Instead, advanced activation layers should be used just like any other layer in a model.\n",
            "  identifier=identifier.__class__.__name__))\n"
          ],
          "name": "stderr"
        },
        {
          "output_type": "stream",
          "text": [
            "Model: \"sequential_5\"\n",
            "_________________________________________________________________\n",
            "Layer (type)                 Output Shape              Param #   \n",
            "=================================================================\n",
            "lstm_5 (LSTM)                (None, 200)               165600    \n",
            "_________________________________________________________________\n",
            "dense_5 (Dense)              (None, 1)                 201       \n",
            "=================================================================\n",
            "Total params: 165,801\n",
            "Trainable params: 165,801\n",
            "Non-trainable params: 0\n",
            "_________________________________________________________________\n",
            "Epoch 1/100\n",
            "51/51 [==============================] - 0s 9ms/step - loss: 59479939.8943\n",
            "Epoch 2/100\n",
            "51/51 [==============================] - 0s 4ms/step - loss: 3736766.1410\n",
            "Epoch 3/100\n",
            "51/51 [==============================] - 0s 5ms/step - loss: 6375519.9024\n",
            "Epoch 4/100\n",
            "51/51 [==============================] - 0s 5ms/step - loss: 2683003.5513\n",
            "Epoch 5/100\n",
            "51/51 [==============================] - 0s 4ms/step - loss: 3327011.3711\n",
            "Epoch 6/100\n",
            "51/51 [==============================] - 0s 4ms/step - loss: 6248611.2973\n",
            "Epoch 7/100\n",
            "51/51 [==============================] - 0s 4ms/step - loss: 628854.0045\n",
            "Epoch 8/100\n",
            "51/51 [==============================] - 0s 4ms/step - loss: 5846909.9761\n",
            "Epoch 9/100\n",
            "51/51 [==============================] - 0s 5ms/step - loss: 3660136.2625\n",
            "Epoch 10/100\n",
            "51/51 [==============================] - 0s 4ms/step - loss: 1801327.3328\n",
            "Epoch 11/100\n",
            "51/51 [==============================] - 0s 4ms/step - loss: 2145598.3508\n",
            "Epoch 12/100\n",
            "51/51 [==============================] - 0s 4ms/step - loss: 1336201.2047\n",
            "Epoch 13/100\n",
            "51/51 [==============================] - 0s 4ms/step - loss: 10205101.1677\n",
            "Epoch 14/100\n",
            "51/51 [==============================] - 0s 5ms/step - loss: 4593396.0936\n",
            "Epoch 15/100\n",
            "51/51 [==============================] - 0s 4ms/step - loss: 1794473.8132\n",
            "Epoch 16/100\n",
            "51/51 [==============================] - 0s 4ms/step - loss: 6685798.5851\n",
            "Epoch 17/100\n",
            "51/51 [==============================] - 0s 4ms/step - loss: 1622852.5819\n",
            "Epoch 18/100\n",
            "51/51 [==============================] - 0s 4ms/step - loss: 2368701.1482\n",
            "Epoch 19/100\n",
            "51/51 [==============================] - 0s 4ms/step - loss: 2168060.0643\n",
            "Epoch 20/100\n",
            "51/51 [==============================] - 0s 4ms/step - loss: 1478644.7946\n",
            "Epoch 21/100\n",
            "51/51 [==============================] - 0s 4ms/step - loss: 3608247.3620\n",
            "Epoch 22/100\n",
            "51/51 [==============================] - 0s 4ms/step - loss: 1180711.2622\n",
            "Epoch 23/100\n",
            "51/51 [==============================] - 0s 4ms/step - loss: 2596514.9540\n",
            "Epoch 24/100\n",
            "51/51 [==============================] - 0s 4ms/step - loss: 1385806.6187\n",
            "Epoch 25/100\n",
            "51/51 [==============================] - 0s 4ms/step - loss: 6800283.1713\n",
            "Epoch 26/100\n",
            "51/51 [==============================] - 0s 4ms/step - loss: 1814591.6720\n",
            "Epoch 27/100\n",
            "51/51 [==============================] - 0s 4ms/step - loss: 2466887.7581\n",
            "Epoch 28/100\n",
            "51/51 [==============================] - 0s 5ms/step - loss: 2047735.3548\n",
            "Epoch 29/100\n",
            "51/51 [==============================] - 0s 4ms/step - loss: 4392288.8254\n",
            "Epoch 30/100\n",
            "51/51 [==============================] - 0s 4ms/step - loss: 948013.1832\n",
            "Epoch 31/100\n",
            "51/51 [==============================] - 0s 4ms/step - loss: 806357.3493\n",
            "Epoch 32/100\n",
            "51/51 [==============================] - 0s 4ms/step - loss: 1913281.8870\n",
            "Epoch 33/100\n",
            "51/51 [==============================] - 0s 4ms/step - loss: 1981670.0374\n",
            "Epoch 34/100\n",
            "51/51 [==============================] - 0s 4ms/step - loss: 897033.0619\n",
            "Epoch 35/100\n",
            "51/51 [==============================] - 0s 4ms/step - loss: 1671730.0590\n",
            "Epoch 36/100\n",
            "51/51 [==============================] - 0s 4ms/step - loss: 1233032.0239\n",
            "Epoch 37/100\n",
            "51/51 [==============================] - 0s 4ms/step - loss: 2202531.0387\n",
            "Epoch 38/100\n",
            "51/51 [==============================] - 0s 4ms/step - loss: 4485704.8733\n",
            "Epoch 39/100\n",
            "51/51 [==============================] - 0s 4ms/step - loss: 4343435.6068\n",
            "Epoch 40/100\n",
            "51/51 [==============================] - 0s 4ms/step - loss: 6874753.4897\n",
            "Epoch 41/100\n",
            "51/51 [==============================] - 0s 4ms/step - loss: 627437.5429\n",
            "Epoch 42/100\n",
            "51/51 [==============================] - 0s 4ms/step - loss: 638900.8151\n",
            "Epoch 43/100\n",
            "51/51 [==============================] - 0s 4ms/step - loss: 1181132.9594\n",
            "Epoch 44/100\n",
            "51/51 [==============================] - 0s 4ms/step - loss: 682628.0751\n",
            "Epoch 45/100\n",
            "51/51 [==============================] - 0s 4ms/step - loss: 1124158.1298\n",
            "Epoch 46/100\n",
            "51/51 [==============================] - 0s 4ms/step - loss: 1366126.2486\n",
            "Epoch 47/100\n",
            "51/51 [==============================] - 0s 4ms/step - loss: 3522093.6057\n",
            "Epoch 48/100\n",
            "51/51 [==============================] - 0s 4ms/step - loss: 1709435.7009\n",
            "Epoch 49/100\n",
            "51/51 [==============================] - 0s 4ms/step - loss: 2814930.5031\n",
            "Epoch 50/100\n",
            "51/51 [==============================] - 0s 5ms/step - loss: 836925.1955\n",
            "Epoch 51/100\n",
            "51/51 [==============================] - 0s 5ms/step - loss: 725973.7840\n",
            "Epoch 52/100\n",
            "51/51 [==============================] - 0s 4ms/step - loss: 3677571.7917\n",
            "Epoch 53/100\n",
            "51/51 [==============================] - 0s 4ms/step - loss: 3834466.9989\n",
            "Epoch 54/100\n",
            "51/51 [==============================] - 0s 4ms/step - loss: 800265.3968\n",
            "Epoch 55/100\n",
            "51/51 [==============================] - 0s 4ms/step - loss: 1098292.6455\n",
            "Epoch 56/100\n",
            "51/51 [==============================] - 0s 5ms/step - loss: 548579.7888\n",
            "Epoch 57/100\n",
            "51/51 [==============================] - 0s 4ms/step - loss: 2595043.0805\n",
            "Epoch 58/100\n",
            "51/51 [==============================] - 0s 4ms/step - loss: 885018.5334\n",
            "Epoch 59/100\n",
            "51/51 [==============================] - 0s 4ms/step - loss: 1003368.4409\n",
            "Epoch 60/100\n",
            "51/51 [==============================] - 0s 4ms/step - loss: 1007182.7169\n",
            "Epoch 61/100\n",
            "51/51 [==============================] - 0s 5ms/step - loss: 977688.9567\n",
            "Epoch 62/100\n",
            "51/51 [==============================] - 0s 4ms/step - loss: 2521331.8054\n",
            "Epoch 63/100\n",
            "51/51 [==============================] - 0s 4ms/step - loss: 870898.3486\n",
            "Epoch 64/100\n",
            "51/51 [==============================] - 0s 4ms/step - loss: 484842.6343\n",
            "Epoch 65/100\n",
            "51/51 [==============================] - 0s 4ms/step - loss: 668586.6744\n",
            "Epoch 66/100\n",
            "51/51 [==============================] - 0s 4ms/step - loss: 580340.0787\n",
            "Epoch 67/100\n",
            "51/51 [==============================] - 0s 4ms/step - loss: 6028211.0038\n",
            "Epoch 68/100\n",
            "51/51 [==============================] - 0s 4ms/step - loss: 1620940.8342\n",
            "Epoch 69/100\n",
            "51/51 [==============================] - 0s 5ms/step - loss: 1195890.6349\n",
            "Epoch 70/100\n",
            "51/51 [==============================] - 0s 4ms/step - loss: 2711592.8463\n",
            "Epoch 71/100\n",
            "51/51 [==============================] - 0s 4ms/step - loss: 1004573.9936\n",
            "Epoch 72/100\n",
            "51/51 [==============================] - 0s 4ms/step - loss: 741262.0222\n",
            "Epoch 73/100\n",
            "51/51 [==============================] - 0s 4ms/step - loss: 541807.0662\n",
            "Epoch 74/100\n",
            "51/51 [==============================] - 0s 4ms/step - loss: 997887.9204\n",
            "Epoch 75/100\n",
            "51/51 [==============================] - 0s 4ms/step - loss: 864284.0962\n",
            "Epoch 76/100\n",
            "51/51 [==============================] - 0s 4ms/step - loss: 1050285.7216\n",
            "Epoch 77/100\n",
            "51/51 [==============================] - 0s 4ms/step - loss: 682934.1990\n",
            "Epoch 78/100\n",
            "51/51 [==============================] - 0s 4ms/step - loss: 445033.4967\n",
            "Epoch 79/100\n",
            "51/51 [==============================] - 0s 4ms/step - loss: 396707.5327\n",
            "Epoch 80/100\n",
            "51/51 [==============================] - 0s 4ms/step - loss: 1253700.6140\n",
            "Epoch 81/100\n",
            "51/51 [==============================] - 0s 4ms/step - loss: 746624.7183\n",
            "Epoch 82/100\n",
            "51/51 [==============================] - 0s 4ms/step - loss: 1596887.6372\n",
            "Epoch 83/100\n",
            "51/51 [==============================] - 0s 4ms/step - loss: 1885592.9235\n",
            "Epoch 84/100\n",
            "51/51 [==============================] - 0s 4ms/step - loss: 576004.9583\n",
            "Epoch 85/100\n",
            "51/51 [==============================] - 0s 4ms/step - loss: 579583.3477\n",
            "Epoch 86/100\n",
            "51/51 [==============================] - 0s 4ms/step - loss: 2103703.0785\n",
            "Epoch 87/100\n",
            "51/51 [==============================] - 0s 4ms/step - loss: 3346100.7425\n",
            "Epoch 88/100\n",
            "51/51 [==============================] - 0s 4ms/step - loss: 871807.3901\n",
            "Epoch 89/100\n",
            "51/51 [==============================] - 0s 4ms/step - loss: 829318.8831\n",
            "Epoch 90/100\n",
            "51/51 [==============================] - 0s 4ms/step - loss: 1333816.3750\n",
            "Epoch 91/100\n",
            "51/51 [==============================] - 0s 4ms/step - loss: 2027268.2207\n",
            "Epoch 92/100\n",
            "51/51 [==============================] - 0s 4ms/step - loss: 2187795.6469\n",
            "Epoch 93/100\n",
            "51/51 [==============================] - 0s 4ms/step - loss: 858412.8424\n",
            "Epoch 94/100\n",
            "51/51 [==============================] - 0s 4ms/step - loss: 1558746.2419\n",
            "Epoch 95/100\n",
            "51/51 [==============================] - 0s 5ms/step - loss: 1552700.7046\n",
            "Epoch 96/100\n",
            "51/51 [==============================] - 0s 4ms/step - loss: 688353.6749\n",
            "Epoch 97/100\n",
            "51/51 [==============================] - 0s 4ms/step - loss: 988806.7328\n",
            "Epoch 98/100\n",
            "51/51 [==============================] - 0s 4ms/step - loss: 887783.2054\n",
            "Epoch 99/100\n",
            "51/51 [==============================] - 0s 5ms/step - loss: 720134.6741\n",
            "Epoch 100/100\n",
            "51/51 [==============================] - 0s 4ms/step - loss: 617191.5170\n",
            "Runtime:  22.316378355026245 seconds\n"
          ],
          "name": "stdout"
        }
      ]
    },
    {
      "cell_type": "code",
      "metadata": {
        "id": "pkOJEpB858t1",
        "colab_type": "code",
        "colab": {}
      },
      "source": [
        "# Make predictions using LSTM Model\n",
        "trainPredict = model.predict(trainX)\n",
        "testPredict = model.predict(testX)\n",
        "\n",
        "# shift train predictions for plotting\n",
        "size = len(italy_confirmed)\n",
        "\n",
        "# Create NULL arrays\n",
        "trainPredictPlot = np.zeros(size)\n",
        "testPredictPlot = np.zeros(size)\n",
        "\n",
        "for i in range(size):\n",
        "    trainPredictPlot[i] = np.nan\n",
        "    testPredictPlot[i] = np.nan\n",
        "\n",
        "# Add predicted values to new arrays\n",
        "\n",
        "for i in range(len(trainPredict)):\n",
        "    trainPredictPlot[look_back + i] = trainPredict[i]\n",
        "\n",
        "for i in range(len(testPredict)):\n",
        "    testPredictPlot[len(trainPredict)+(look_back*2)+ i : size-1] = testPredict[i]\n",
        "\n",
        "# Create Dataframes for each and merge everything\n",
        "trainPredictPlot = pd.DataFrame(trainPredictPlot, columns=['Train Predictions'])\n",
        "testPredictPlot = pd.DataFrame(testPredictPlot, columns=['Test Predictions'])\n",
        "\n",
        "italy_conf = pd.DataFrame(italy_confirmed.values.astype(\"float\"), columns=['Actual Confirmed'])\n",
        "italy_conf = italy_conf.join(trainPredictPlot)\n",
        "italy_conf = italy_conf.join(testPredictPlot)\n",
        "italy_conf.index = italy_confirmed.index"
      ],
      "execution_count": 0,
      "outputs": []
    },
    {
      "cell_type": "markdown",
      "metadata": {
        "id": "3czDakiqNQIu",
        "colab_type": "text"
      },
      "source": [
        "### Future predictions"
      ]
    },
    {
      "cell_type": "code",
      "metadata": {
        "id": "FEN2xaeYOdxl",
        "colab_type": "code",
        "colab": {}
      },
      "source": [
        "dates_range = 15\n",
        "italy_conf_preds= italy_confirmed.copy()\n",
        "length = italy_confirmed.shape[0]\n",
        "italy_conf_preds = italy_conf_preds.reset_index()\n",
        "\n",
        "preds = np.zeros(dates_range)\n",
        "datelist = pd.date_range(italy.index[-1], periods=31)\n",
        "\n",
        "for i in range(dates_range-1):\n",
        "    col = italy_conf_preds['Confirmed']\n",
        "    value = col[-look_back:]\n",
        "    value = value.values.reshape(1, 1, look_back)\n",
        "    preds = model.predict(value)\n",
        "    df = pd.DataFrame([[datelist[i+1], preds[0,0]]], columns=['index', 'Confirmed'] )\n",
        "    italy_conf_preds = italy_conf_preds.append(df, ignore_index=True)\n",
        "\n",
        "italy_conf_preds = italy_conf_preds.set_index('index')"
      ],
      "execution_count": 0,
      "outputs": []
    },
    {
      "cell_type": "code",
      "metadata": {
        "id": "R3SHMXMwNT6i",
        "colab_type": "code",
        "colab": {
          "base_uri": "https://localhost:8080/",
          "height": 225
        },
        "outputId": "47710b6b-37d9-4a9c-9390-74f6bb71ee57"
      },
      "source": [
        "italy_conf_preds.tail()"
      ],
      "execution_count": 282,
      "outputs": [
        {
          "output_type": "execute_result",
          "data": {
            "text/html": [
              "<div>\n",
              "<style scoped>\n",
              "    .dataframe tbody tr th:only-of-type {\n",
              "        vertical-align: middle;\n",
              "    }\n",
              "\n",
              "    .dataframe tbody tr th {\n",
              "        vertical-align: top;\n",
              "    }\n",
              "\n",
              "    .dataframe thead th {\n",
              "        text-align: right;\n",
              "    }\n",
              "</style>\n",
              "<table border=\"1\" class=\"dataframe\">\n",
              "  <thead>\n",
              "    <tr style=\"text-align: right;\">\n",
              "      <th></th>\n",
              "      <th>Confirmed</th>\n",
              "    </tr>\n",
              "    <tr>\n",
              "      <th>index</th>\n",
              "      <th></th>\n",
              "    </tr>\n",
              "  </thead>\n",
              "  <tbody>\n",
              "    <tr>\n",
              "      <th>2020-04-13</th>\n",
              "      <td>209403.578125</td>\n",
              "    </tr>\n",
              "    <tr>\n",
              "      <th>2020-04-14</th>\n",
              "      <td>220640.828125</td>\n",
              "    </tr>\n",
              "    <tr>\n",
              "      <th>2020-04-15</th>\n",
              "      <td>232823.390625</td>\n",
              "    </tr>\n",
              "    <tr>\n",
              "      <th>2020-04-16</th>\n",
              "      <td>245885.531250</td>\n",
              "    </tr>\n",
              "    <tr>\n",
              "      <th>2020-04-17</th>\n",
              "      <td>259548.000000</td>\n",
              "    </tr>\n",
              "  </tbody>\n",
              "</table>\n",
              "</div>"
            ],
            "text/plain": [
              "                Confirmed\n",
              "index                    \n",
              "2020-04-13  209403.578125\n",
              "2020-04-14  220640.828125\n",
              "2020-04-15  232823.390625\n",
              "2020-04-16  245885.531250\n",
              "2020-04-17  259548.000000"
            ]
          },
          "metadata": {
            "tags": []
          },
          "execution_count": 282
        }
      ]
    },
    {
      "cell_type": "markdown",
      "metadata": {
        "id": "77GpK91538NB",
        "colab_type": "text"
      },
      "source": [
        "### For Recovered Cases"
      ]
    },
    {
      "cell_type": "code",
      "metadata": {
        "colab_type": "code",
        "outputId": "cb428683-287e-478a-e098-0aa1a3047210",
        "id": "XgNZST3y4H-o",
        "colab": {
          "base_uri": "https://localhost:8080/",
          "height": 50
        }
      },
      "source": [
        "# Split the series for training and testing\n",
        "size = italy_recovered.shape[0]\n",
        "tr =int(round(size*0.8))\n",
        "X_train, X_test = italy_recovered[:tr] , italy_recovered[tr:]\n",
        "\n",
        "# Reshape the series for further computations\n",
        "X_train = X_train.values.reshape(-1,1)\n",
        "X_test = X_test.values.reshape(-1,1)\n",
        "\n",
        "\n",
        "# Create Windows\n",
        "look_back = 6\n",
        "trainX, trainY = create_dataset(X_train, look_back)\n",
        "testX, testY = create_dataset(X_test, look_back)\n",
        "\n",
        "# reshape input to be [samples, time steps, features] for LSTM\n",
        "trainX = np.reshape(trainX, (trainX.shape[0], 1, trainX.shape[1]))\n",
        "testX = np.reshape(testX, (testX.shape[0], 1, testX.shape[1]))"
      ],
      "execution_count": 91,
      "outputs": [
        {
          "output_type": "stream",
          "text": [
            "58\n",
            "15\n"
          ],
          "name": "stdout"
        }
      ]
    },
    {
      "cell_type": "code",
      "metadata": {
        "colab_type": "code",
        "outputId": "6e384e7a-373d-42fa-a2e6-f372c6812c18",
        "id": "JJSWhUzh4J6M",
        "colab": {
          "base_uri": "https://localhost:8080/",
          "height": 1000
        }
      },
      "source": [
        "# create and fit the LSTM network\n",
        "model = Sequential()\n",
        "\n",
        "model.add(LSTM(200, input_shape=(1, look_back), activation='relu', dropout=0.2))\n",
        "\n",
        "model.add(Dense(1, activation=LeakyReLU(alpha=0.1)))\n",
        "model.summary()\n",
        "\n",
        "opt = Adam(lr=0.001, beta_1=0.9, beta_2=0.999 )\n",
        "\n",
        "model.compile(loss='mean_squared_error', optimizer=opt)\n",
        "\n",
        "start = time.time()\n",
        "model.fit(trainX, trainY, epochs=100, batch_size=1, verbose=1)\n",
        "end = time.time()\n",
        "\n",
        "runtime = end-start\n",
        "print('Runtime: ', runtime, 'seconds')"
      ],
      "execution_count": 92,
      "outputs": [
        {
          "output_type": "stream",
          "text": [
            "/usr/local/lib/python3.6/dist-packages/keras/activations.py:235: UserWarning: Do not pass a layer instance (such as LeakyReLU) as the activation argument of another layer. Instead, advanced activation layers should be used just like any other layer in a model.\n",
            "  identifier=identifier.__class__.__name__))\n"
          ],
          "name": "stderr"
        },
        {
          "output_type": "stream",
          "text": [
            "Model: \"sequential_6\"\n",
            "_________________________________________________________________\n",
            "Layer (type)                 Output Shape              Param #   \n",
            "=================================================================\n",
            "lstm_6 (LSTM)                (None, 200)               165600    \n",
            "_________________________________________________________________\n",
            "dense_6 (Dense)              (None, 1)                 201       \n",
            "=================================================================\n",
            "Total params: 165,801\n",
            "Trainable params: 165,801\n",
            "Non-trainable params: 0\n",
            "_________________________________________________________________\n",
            "Epoch 1/100\n",
            "51/51 [==============================] - 0s 8ms/step - loss: 759562.6651\n",
            "Epoch 2/100\n",
            "51/51 [==============================] - 0s 4ms/step - loss: 152150.2460\n",
            "Epoch 3/100\n",
            "51/51 [==============================] - 0s 4ms/step - loss: 54537.2307\n",
            "Epoch 4/100\n",
            "51/51 [==============================] - 0s 4ms/step - loss: 70963.1032\n",
            "Epoch 5/100\n",
            "51/51 [==============================] - 0s 4ms/step - loss: 113470.6512\n",
            "Epoch 6/100\n",
            "51/51 [==============================] - 0s 4ms/step - loss: 41563.0164\n",
            "Epoch 7/100\n",
            "51/51 [==============================] - 0s 4ms/step - loss: 84344.8318\n",
            "Epoch 8/100\n",
            "51/51 [==============================] - 0s 5ms/step - loss: 15276.1732\n",
            "Epoch 9/100\n",
            "51/51 [==============================] - 0s 4ms/step - loss: 46396.2989\n",
            "Epoch 10/100\n",
            "51/51 [==============================] - 0s 4ms/step - loss: 34523.2669\n",
            "Epoch 11/100\n",
            "51/51 [==============================] - 0s 4ms/step - loss: 43118.3721\n",
            "Epoch 12/100\n",
            "51/51 [==============================] - 0s 4ms/step - loss: 19882.0874\n",
            "Epoch 13/100\n",
            "51/51 [==============================] - 0s 4ms/step - loss: 80026.3545\n",
            "Epoch 14/100\n",
            "51/51 [==============================] - 0s 4ms/step - loss: 22081.4095\n",
            "Epoch 15/100\n",
            "51/51 [==============================] - 0s 4ms/step - loss: 28995.1504\n",
            "Epoch 16/100\n",
            "51/51 [==============================] - 0s 4ms/step - loss: 43832.1853\n",
            "Epoch 17/100\n",
            "51/51 [==============================] - 0s 5ms/step - loss: 31334.7375\n",
            "Epoch 18/100\n",
            "51/51 [==============================] - 0s 4ms/step - loss: 18408.8806\n",
            "Epoch 19/100\n",
            "51/51 [==============================] - 0s 4ms/step - loss: 14789.5890\n",
            "Epoch 20/100\n",
            "51/51 [==============================] - 0s 4ms/step - loss: 15481.3183\n",
            "Epoch 21/100\n",
            "51/51 [==============================] - 0s 4ms/step - loss: 21851.1226\n",
            "Epoch 22/100\n",
            "51/51 [==============================] - 0s 4ms/step - loss: 24806.7338\n",
            "Epoch 23/100\n",
            "51/51 [==============================] - 0s 4ms/step - loss: 12200.9339\n",
            "Epoch 24/100\n",
            "51/51 [==============================] - 0s 4ms/step - loss: 18094.3137\n",
            "Epoch 25/100\n",
            "51/51 [==============================] - 0s 4ms/step - loss: 59617.6417\n",
            "Epoch 26/100\n",
            "51/51 [==============================] - 0s 4ms/step - loss: 18055.7531\n",
            "Epoch 27/100\n",
            "51/51 [==============================] - 0s 4ms/step - loss: 30442.3174\n",
            "Epoch 28/100\n",
            "51/51 [==============================] - 0s 4ms/step - loss: 43141.0836\n",
            "Epoch 29/100\n",
            "51/51 [==============================] - 0s 4ms/step - loss: 10124.8233\n",
            "Epoch 30/100\n",
            "51/51 [==============================] - 0s 4ms/step - loss: 66902.9297\n",
            "Epoch 31/100\n",
            "51/51 [==============================] - 0s 5ms/step - loss: 38950.6294\n",
            "Epoch 32/100\n",
            "51/51 [==============================] - 0s 4ms/step - loss: 37675.1966\n",
            "Epoch 33/100\n",
            "51/51 [==============================] - 0s 4ms/step - loss: 28404.0953\n",
            "Epoch 34/100\n",
            "51/51 [==============================] - 0s 4ms/step - loss: 15436.2073\n",
            "Epoch 35/100\n",
            "51/51 [==============================] - 0s 4ms/step - loss: 134032.1141\n",
            "Epoch 36/100\n",
            "51/51 [==============================] - 0s 5ms/step - loss: 33246.4071\n",
            "Epoch 37/100\n",
            "51/51 [==============================] - 0s 4ms/step - loss: 59620.1746\n",
            "Epoch 38/100\n",
            "51/51 [==============================] - 0s 4ms/step - loss: 19665.8643\n",
            "Epoch 39/100\n",
            "51/51 [==============================] - 0s 4ms/step - loss: 11969.6462\n",
            "Epoch 40/100\n",
            "51/51 [==============================] - 0s 4ms/step - loss: 11765.9114\n",
            "Epoch 41/100\n",
            "51/51 [==============================] - 0s 4ms/step - loss: 15066.0679\n",
            "Epoch 42/100\n",
            "51/51 [==============================] - 0s 4ms/step - loss: 14619.3608\n",
            "Epoch 43/100\n",
            "51/51 [==============================] - 0s 4ms/step - loss: 15099.5459\n",
            "Epoch 44/100\n",
            "51/51 [==============================] - 0s 4ms/step - loss: 30465.5185\n",
            "Epoch 45/100\n",
            "51/51 [==============================] - 0s 4ms/step - loss: 21345.6348\n",
            "Epoch 46/100\n",
            "51/51 [==============================] - 0s 4ms/step - loss: 24578.7672\n",
            "Epoch 47/100\n",
            "51/51 [==============================] - 0s 4ms/step - loss: 13857.3265\n",
            "Epoch 48/100\n",
            "51/51 [==============================] - 0s 4ms/step - loss: 17839.4277\n",
            "Epoch 49/100\n",
            "51/51 [==============================] - 0s 4ms/step - loss: 8043.1090\n",
            "Epoch 50/100\n",
            "51/51 [==============================] - 0s 4ms/step - loss: 17176.0567\n",
            "Epoch 51/100\n",
            "51/51 [==============================] - 0s 4ms/step - loss: 26194.8393\n",
            "Epoch 52/100\n",
            "51/51 [==============================] - 0s 4ms/step - loss: 41915.0514\n",
            "Epoch 53/100\n",
            "51/51 [==============================] - 0s 4ms/step - loss: 17068.2314\n",
            "Epoch 54/100\n",
            "51/51 [==============================] - 0s 4ms/step - loss: 11264.1566\n",
            "Epoch 55/100\n",
            "51/51 [==============================] - 0s 4ms/step - loss: 15178.6260\n",
            "Epoch 56/100\n",
            "51/51 [==============================] - 0s 5ms/step - loss: 22956.2247\n",
            "Epoch 57/100\n",
            "51/51 [==============================] - 0s 4ms/step - loss: 15288.0612\n",
            "Epoch 58/100\n",
            "51/51 [==============================] - 0s 4ms/step - loss: 28307.1597\n",
            "Epoch 59/100\n",
            "51/51 [==============================] - 0s 4ms/step - loss: 12288.5073\n",
            "Epoch 60/100\n",
            "51/51 [==============================] - 0s 4ms/step - loss: 37420.7071\n",
            "Epoch 61/100\n",
            "51/51 [==============================] - 0s 4ms/step - loss: 31331.5800\n",
            "Epoch 62/100\n",
            "51/51 [==============================] - 0s 4ms/step - loss: 22847.2959\n",
            "Epoch 63/100\n",
            "51/51 [==============================] - 0s 4ms/step - loss: 18523.8991\n",
            "Epoch 64/100\n",
            "51/51 [==============================] - 0s 4ms/step - loss: 26884.9080\n",
            "Epoch 65/100\n",
            "51/51 [==============================] - 0s 4ms/step - loss: 14659.9046\n",
            "Epoch 66/100\n",
            "51/51 [==============================] - 0s 4ms/step - loss: 18082.1199\n",
            "Epoch 67/100\n",
            "51/51 [==============================] - 0s 4ms/step - loss: 17762.9566\n",
            "Epoch 68/100\n",
            "51/51 [==============================] - 0s 4ms/step - loss: 11043.4076\n",
            "Epoch 69/100\n",
            "51/51 [==============================] - 0s 4ms/step - loss: 64993.0735\n",
            "Epoch 70/100\n",
            "51/51 [==============================] - 0s 5ms/step - loss: 14867.3245\n",
            "Epoch 71/100\n",
            "51/51 [==============================] - 0s 4ms/step - loss: 22212.5585\n",
            "Epoch 72/100\n",
            "51/51 [==============================] - 0s 4ms/step - loss: 16504.1555\n",
            "Epoch 73/100\n",
            "51/51 [==============================] - 0s 4ms/step - loss: 25122.8454\n",
            "Epoch 74/100\n",
            "51/51 [==============================] - 0s 4ms/step - loss: 28567.7096\n",
            "Epoch 75/100\n",
            "51/51 [==============================] - 0s 5ms/step - loss: 20709.7304\n",
            "Epoch 76/100\n",
            "51/51 [==============================] - 0s 4ms/step - loss: 9483.0599\n",
            "Epoch 77/100\n",
            "51/51 [==============================] - 0s 4ms/step - loss: 25975.3159\n",
            "Epoch 78/100\n",
            "51/51 [==============================] - 0s 4ms/step - loss: 14067.5263\n",
            "Epoch 79/100\n",
            "51/51 [==============================] - 0s 4ms/step - loss: 9383.3991\n",
            "Epoch 80/100\n",
            "51/51 [==============================] - 0s 4ms/step - loss: 10496.3791\n",
            "Epoch 81/100\n",
            "51/51 [==============================] - 0s 5ms/step - loss: 29198.4830\n",
            "Epoch 82/100\n",
            "51/51 [==============================] - 0s 4ms/step - loss: 15054.0054\n",
            "Epoch 83/100\n",
            "51/51 [==============================] - 0s 4ms/step - loss: 12781.2771\n",
            "Epoch 84/100\n",
            "51/51 [==============================] - 0s 4ms/step - loss: 52327.1101\n",
            "Epoch 85/100\n",
            "51/51 [==============================] - 0s 4ms/step - loss: 39966.1266\n",
            "Epoch 86/100\n",
            "51/51 [==============================] - 0s 4ms/step - loss: 14335.0287\n",
            "Epoch 87/100\n",
            "51/51 [==============================] - 0s 4ms/step - loss: 22205.5866\n",
            "Epoch 88/100\n",
            "51/51 [==============================] - 0s 4ms/step - loss: 11393.4301\n",
            "Epoch 89/100\n",
            "51/51 [==============================] - 0s 4ms/step - loss: 12246.3397\n",
            "Epoch 90/100\n",
            "51/51 [==============================] - 0s 4ms/step - loss: 22886.4192\n",
            "Epoch 91/100\n",
            "51/51 [==============================] - 0s 4ms/step - loss: 13535.8926\n",
            "Epoch 92/100\n",
            "51/51 [==============================] - 0s 4ms/step - loss: 22419.2613\n",
            "Epoch 93/100\n",
            "51/51 [==============================] - 0s 4ms/step - loss: 17966.0030\n",
            "Epoch 94/100\n",
            "51/51 [==============================] - 0s 4ms/step - loss: 6738.3490\n",
            "Epoch 95/100\n",
            "51/51 [==============================] - 0s 4ms/step - loss: 13548.0660\n",
            "Epoch 96/100\n",
            "51/51 [==============================] - 0s 4ms/step - loss: 30300.6993\n",
            "Epoch 97/100\n",
            "51/51 [==============================] - 0s 4ms/step - loss: 14254.4083\n",
            "Epoch 98/100\n",
            "51/51 [==============================] - 0s 4ms/step - loss: 23659.4901\n",
            "Epoch 99/100\n",
            "51/51 [==============================] - 0s 4ms/step - loss: 17480.5220\n",
            "Epoch 100/100\n",
            "51/51 [==============================] - 0s 4ms/step - loss: 19128.0718\n",
            "Runtime:  21.88194966316223 seconds\n"
          ],
          "name": "stdout"
        }
      ]
    },
    {
      "cell_type": "code",
      "metadata": {
        "colab_type": "code",
        "id": "mi9OUZwO4XCK",
        "colab": {}
      },
      "source": [
        "# Make predictions using LSTM Model\n",
        "trainPredict = model.predict(trainX)\n",
        "testPredict = model.predict(testX)\n",
        "\n",
        "# shift train predictions for plotting\n",
        "size = len(italy_recovered)\n",
        "\n",
        "# Create NULL arrays\n",
        "trainPredictPlot = np.zeros(size)\n",
        "testPredictPlot = np.zeros(size)\n",
        "\n",
        "for i in range(size):\n",
        "    trainPredictPlot[i] = np.nan\n",
        "    testPredictPlot[i] = np.nan\n",
        "\n",
        "# Add predicted values to new arrays\n",
        "\n",
        "for i in range(len(trainPredict)):\n",
        "    trainPredictPlot[look_back + i] = trainPredict[i]\n",
        "\n",
        "for i in range(len(testPredict)):\n",
        "    testPredictPlot[len(trainPredict)+(look_back*2)+ i : len(italy_recovered)-1] = testPredict[i]\n",
        "\n",
        "# Create Dataframes for each and merge everything\n",
        "trainPredictPlot = pd.DataFrame(trainPredictPlot, columns=['Train Predictions'])\n",
        "testPredictPlot = pd.DataFrame(testPredictPlot, columns=['Test Predictions'])\n",
        "\n",
        "italy_recv = pd.DataFrame(italy_recovered.values.astype(\"float\"), columns=['Actual Confirmed'])\n",
        "italy_recv = italy_recv.join(trainPredictPlot)\n",
        "italy_recv = italy_recv.join(testPredictPlot)\n",
        "italy_recv.index = italy_recovered.index"
      ],
      "execution_count": 0,
      "outputs": []
    },
    {
      "cell_type": "markdown",
      "metadata": {
        "id": "TvMmP1M_34fV",
        "colab_type": "text"
      },
      "source": [
        "### Future Predictions"
      ]
    },
    {
      "cell_type": "code",
      "metadata": {
        "colab_type": "code",
        "id": "uMflVzSv36-e",
        "colab": {}
      },
      "source": [
        "dates_range = 15\n",
        "italy_recv_preds= italy_recovered.copy()\n",
        "length = italy_recovered.shape[0]\n",
        "italy_recv_preds = italy_recv_preds.reset_index()\n",
        "\n",
        "preds = np.zeros(dates_range)\n",
        "datelist = pd.date_range(italy.index[-1], periods=31)\n",
        "\n",
        "for i in range(dates_range-1):\n",
        "    col = italy_recv_preds['Recovered']\n",
        "    value = col[-look_back:]\n",
        "    value = value.values.reshape(1, 1, look_back)\n",
        "    preds = model.predict(value)\n",
        "    df = pd.DataFrame([[datelist[i+1], preds[0,0]]], columns=['index', 'Recovered'] )\n",
        "    italy_recv_preds = italy_recv_preds.append(df, ignore_index=True)\n",
        "\n",
        "italy_recv_preds = italy_recv_preds.set_index('index')"
      ],
      "execution_count": 0,
      "outputs": []
    },
    {
      "cell_type": "code",
      "metadata": {
        "id": "ScwuW6_B38C0",
        "colab_type": "code",
        "colab": {
          "base_uri": "https://localhost:8080/",
          "height": 225
        },
        "outputId": "77061ba9-dd02-4807-a5f0-7709f49cd5cd"
      },
      "source": [
        "italy_recv_preds.tail()"
      ],
      "execution_count": 281,
      "outputs": [
        {
          "output_type": "execute_result",
          "data": {
            "text/html": [
              "<div>\n",
              "<style scoped>\n",
              "    .dataframe tbody tr th:only-of-type {\n",
              "        vertical-align: middle;\n",
              "    }\n",
              "\n",
              "    .dataframe tbody tr th {\n",
              "        vertical-align: top;\n",
              "    }\n",
              "\n",
              "    .dataframe thead th {\n",
              "        text-align: right;\n",
              "    }\n",
              "</style>\n",
              "<table border=\"1\" class=\"dataframe\">\n",
              "  <thead>\n",
              "    <tr style=\"text-align: right;\">\n",
              "      <th></th>\n",
              "      <th>Recovered</th>\n",
              "    </tr>\n",
              "    <tr>\n",
              "      <th>index</th>\n",
              "      <th></th>\n",
              "    </tr>\n",
              "  </thead>\n",
              "  <tbody>\n",
              "    <tr>\n",
              "      <th>2020-04-13</th>\n",
              "      <td>55032.839844</td>\n",
              "    </tr>\n",
              "    <tr>\n",
              "      <th>2020-04-14</th>\n",
              "      <td>60827.539062</td>\n",
              "    </tr>\n",
              "    <tr>\n",
              "      <th>2020-04-15</th>\n",
              "      <td>67236.679688</td>\n",
              "    </tr>\n",
              "    <tr>\n",
              "      <th>2020-04-16</th>\n",
              "      <td>74316.562500</td>\n",
              "    </tr>\n",
              "    <tr>\n",
              "      <th>2020-04-17</th>\n",
              "      <td>82134.148438</td>\n",
              "    </tr>\n",
              "  </tbody>\n",
              "</table>\n",
              "</div>"
            ],
            "text/plain": [
              "               Recovered\n",
              "index                   \n",
              "2020-04-13  55032.839844\n",
              "2020-04-14  60827.539062\n",
              "2020-04-15  67236.679688\n",
              "2020-04-16  74316.562500\n",
              "2020-04-17  82134.148438"
            ]
          },
          "metadata": {
            "tags": []
          },
          "execution_count": 281
        }
      ]
    },
    {
      "cell_type": "markdown",
      "metadata": {
        "id": "7Zeh_rQV67pS",
        "colab_type": "text"
      },
      "source": [
        "### For Deaths"
      ]
    },
    {
      "cell_type": "code",
      "metadata": {
        "colab_type": "code",
        "id": "eHSCWrHg6-2c",
        "colab": {
          "base_uri": "https://localhost:8080/",
          "height": 50
        },
        "outputId": "26e9af2f-ef6e-4fd9-9acf-314551f535b6"
      },
      "source": [
        "# Split the series for training and testing\n",
        "size = italy_dead.shape[0]\n",
        "tr =int(round(size*0.8))\n",
        "X_train, X_test = italy_dead[:tr] , italy_dead[tr:]\n",
        "\n",
        "# Reshape the series for further computations\n",
        "X_train = X_train.values.reshape(-1,1)\n",
        "X_test = X_test.values.reshape(-1,1)\n",
        "\n",
        "\n",
        "# Create windows\n",
        "look_back = 6\n",
        "trainX, trainY = create_dataset(X_train, look_back)\n",
        "testX, testY = create_dataset(X_test, look_back)\n",
        "\n",
        "# reshape input to be [samples, time steps, features] for LSTM\n",
        "trainX = np.reshape(trainX, (trainX.shape[0], 1, trainX.shape[1]))\n",
        "testX = np.reshape(testX, (testX.shape[0], 1, testX.shape[1]))"
      ],
      "execution_count": 96,
      "outputs": [
        {
          "output_type": "stream",
          "text": [
            "58\n",
            "15\n"
          ],
          "name": "stdout"
        }
      ]
    },
    {
      "cell_type": "code",
      "metadata": {
        "colab_type": "code",
        "outputId": "dbddd666-f81a-45cb-a9ca-5fcebacda0dc",
        "id": "OOtfH7Zg5QKl",
        "colab": {
          "base_uri": "https://localhost:8080/",
          "height": 1000
        }
      },
      "source": [
        "# create and fit the LSTM network\n",
        "model = Sequential()\n",
        "\n",
        "model.add(LSTM(200, input_shape=(1, look_back), activation='relu', dropout=0.2))\n",
        "\n",
        "model.add(Dense(1, activation=LeakyReLU(alpha=0.1)))\n",
        "model.summary()\n",
        "\n",
        "opt = Adam(lr=0.001, beta_1=0.9, beta_2=0.999 )\n",
        "\n",
        "model.compile(loss='mean_squared_error', optimizer=opt)\n",
        "\n",
        "start = time.time()\n",
        "model.fit(trainX, trainY, epochs=100, batch_size=1, verbose=1)\n",
        "end = time.time()\n",
        "\n",
        "runtime = end-start\n",
        "print('Runtime: ', runtime, 'seconds')"
      ],
      "execution_count": 97,
      "outputs": [
        {
          "output_type": "stream",
          "text": [
            "/usr/local/lib/python3.6/dist-packages/keras/activations.py:235: UserWarning: Do not pass a layer instance (such as LeakyReLU) as the activation argument of another layer. Instead, advanced activation layers should be used just like any other layer in a model.\n",
            "  identifier=identifier.__class__.__name__))\n"
          ],
          "name": "stderr"
        },
        {
          "output_type": "stream",
          "text": [
            "Model: \"sequential_7\"\n",
            "_________________________________________________________________\n",
            "Layer (type)                 Output Shape              Param #   \n",
            "=================================================================\n",
            "lstm_7 (LSTM)                (None, 200)               165600    \n",
            "_________________________________________________________________\n",
            "dense_7 (Dense)              (None, 1)                 201       \n",
            "=================================================================\n",
            "Total params: 165,801\n",
            "Trainable params: 165,801\n",
            "Non-trainable params: 0\n",
            "_________________________________________________________________\n",
            "Epoch 1/100\n",
            "51/51 [==============================] - 0s 8ms/step - loss: 365235.5357\n",
            "Epoch 2/100\n",
            "51/51 [==============================] - 0s 5ms/step - loss: 181720.4224\n",
            "Epoch 3/100\n",
            "51/51 [==============================] - 0s 4ms/step - loss: 23577.3839\n",
            "Epoch 4/100\n",
            "51/51 [==============================] - 0s 4ms/step - loss: 29104.7622\n",
            "Epoch 5/100\n",
            "51/51 [==============================] - 0s 4ms/step - loss: 32037.8880\n",
            "Epoch 6/100\n",
            "51/51 [==============================] - 0s 4ms/step - loss: 25022.7491\n",
            "Epoch 7/100\n",
            "51/51 [==============================] - 0s 4ms/step - loss: 26672.1684\n",
            "Epoch 8/100\n",
            "51/51 [==============================] - 0s 4ms/step - loss: 57558.4311\n",
            "Epoch 9/100\n",
            "51/51 [==============================] - 0s 4ms/step - loss: 12276.7399\n",
            "Epoch 10/100\n",
            "51/51 [==============================] - 0s 4ms/step - loss: 7659.0252\n",
            "Epoch 11/100\n",
            "51/51 [==============================] - 0s 4ms/step - loss: 6457.0582\n",
            "Epoch 12/100\n",
            "51/51 [==============================] - 0s 4ms/step - loss: 27549.3975\n",
            "Epoch 13/100\n",
            "51/51 [==============================] - 0s 4ms/step - loss: 23449.6391\n",
            "Epoch 14/100\n",
            "51/51 [==============================] - 0s 4ms/step - loss: 14826.7339\n",
            "Epoch 15/100\n",
            "51/51 [==============================] - 0s 4ms/step - loss: 19711.8013\n",
            "Epoch 16/100\n",
            "51/51 [==============================] - 0s 5ms/step - loss: 13315.9527\n",
            "Epoch 17/100\n",
            "51/51 [==============================] - 0s 5ms/step - loss: 26617.7045\n",
            "Epoch 18/100\n",
            "51/51 [==============================] - 0s 4ms/step - loss: 25329.4460\n",
            "Epoch 19/100\n",
            "51/51 [==============================] - 0s 4ms/step - loss: 22351.4348\n",
            "Epoch 20/100\n",
            "51/51 [==============================] - 0s 4ms/step - loss: 10868.6131\n",
            "Epoch 21/100\n",
            "51/51 [==============================] - 0s 4ms/step - loss: 22383.0569\n",
            "Epoch 22/100\n",
            "51/51 [==============================] - 0s 4ms/step - loss: 10744.2451\n",
            "Epoch 23/100\n",
            "51/51 [==============================] - 0s 4ms/step - loss: 36520.3768\n",
            "Epoch 24/100\n",
            "51/51 [==============================] - 0s 4ms/step - loss: 26339.6616\n",
            "Epoch 25/100\n",
            "51/51 [==============================] - 0s 4ms/step - loss: 10182.4945\n",
            "Epoch 26/100\n",
            "51/51 [==============================] - 0s 4ms/step - loss: 13522.8263\n",
            "Epoch 27/100\n",
            "51/51 [==============================] - 0s 4ms/step - loss: 16549.1215\n",
            "Epoch 28/100\n",
            "51/51 [==============================] - 0s 4ms/step - loss: 10396.6410\n",
            "Epoch 29/100\n",
            "51/51 [==============================] - 0s 4ms/step - loss: 22349.5742\n",
            "Epoch 30/100\n",
            "51/51 [==============================] - 0s 4ms/step - loss: 7815.1498\n",
            "Epoch 31/100\n",
            "51/51 [==============================] - 0s 4ms/step - loss: 16521.9814\n",
            "Epoch 32/100\n",
            "51/51 [==============================] - 0s 4ms/step - loss: 83594.0379\n",
            "Epoch 33/100\n",
            "51/51 [==============================] - 0s 4ms/step - loss: 13415.7989\n",
            "Epoch 34/100\n",
            "51/51 [==============================] - 0s 4ms/step - loss: 33382.4628\n",
            "Epoch 35/100\n",
            "51/51 [==============================] - 0s 5ms/step - loss: 9530.2434\n",
            "Epoch 36/100\n",
            "51/51 [==============================] - 0s 5ms/step - loss: 13484.5865\n",
            "Epoch 37/100\n",
            "51/51 [==============================] - 0s 4ms/step - loss: 25990.9897\n",
            "Epoch 38/100\n",
            "51/51 [==============================] - 0s 4ms/step - loss: 4873.9872\n",
            "Epoch 39/100\n",
            "51/51 [==============================] - 0s 4ms/step - loss: 6034.8471\n",
            "Epoch 40/100\n",
            "51/51 [==============================] - 0s 4ms/step - loss: 5902.7537\n",
            "Epoch 41/100\n",
            "51/51 [==============================] - 0s 4ms/step - loss: 23718.2728\n",
            "Epoch 42/100\n",
            "51/51 [==============================] - 0s 4ms/step - loss: 9010.8297\n",
            "Epoch 43/100\n",
            "51/51 [==============================] - 0s 4ms/step - loss: 11827.1914\n",
            "Epoch 44/100\n",
            "51/51 [==============================] - 0s 5ms/step - loss: 8695.3660\n",
            "Epoch 45/100\n",
            "51/51 [==============================] - 0s 4ms/step - loss: 17235.0899\n",
            "Epoch 46/100\n",
            "51/51 [==============================] - 0s 4ms/step - loss: 11137.0755\n",
            "Epoch 47/100\n",
            "51/51 [==============================] - 0s 4ms/step - loss: 8143.1095\n",
            "Epoch 48/100\n",
            "51/51 [==============================] - 0s 4ms/step - loss: 8885.7903\n",
            "Epoch 49/100\n",
            "51/51 [==============================] - 0s 5ms/step - loss: 8612.2442\n",
            "Epoch 50/100\n",
            "51/51 [==============================] - 0s 4ms/step - loss: 12903.9371\n",
            "Epoch 51/100\n",
            "51/51 [==============================] - 0s 4ms/step - loss: 12629.3753\n",
            "Epoch 52/100\n",
            "51/51 [==============================] - 0s 4ms/step - loss: 3452.2835\n",
            "Epoch 53/100\n",
            "51/51 [==============================] - 0s 4ms/step - loss: 6716.5375\n",
            "Epoch 54/100\n",
            "51/51 [==============================] - 0s 5ms/step - loss: 3391.1572\n",
            "Epoch 55/100\n",
            "51/51 [==============================] - 0s 4ms/step - loss: 3121.9880\n",
            "Epoch 56/100\n",
            "51/51 [==============================] - 0s 4ms/step - loss: 13840.4331\n",
            "Epoch 57/100\n",
            "51/51 [==============================] - 0s 4ms/step - loss: 4737.4473\n",
            "Epoch 58/100\n",
            "51/51 [==============================] - 0s 4ms/step - loss: 11718.1218\n",
            "Epoch 59/100\n",
            "51/51 [==============================] - 0s 4ms/step - loss: 5142.7469\n",
            "Epoch 60/100\n",
            "51/51 [==============================] - 0s 4ms/step - loss: 23144.5318\n",
            "Epoch 61/100\n",
            "51/51 [==============================] - 0s 4ms/step - loss: 6692.4659\n",
            "Epoch 62/100\n",
            "51/51 [==============================] - 0s 4ms/step - loss: 12261.9345\n",
            "Epoch 63/100\n",
            "51/51 [==============================] - 0s 4ms/step - loss: 7102.0313\n",
            "Epoch 64/100\n",
            "51/51 [==============================] - 0s 4ms/step - loss: 6703.1584\n",
            "Epoch 65/100\n",
            "51/51 [==============================] - 0s 4ms/step - loss: 24868.2806\n",
            "Epoch 66/100\n",
            "51/51 [==============================] - 0s 5ms/step - loss: 19178.5992\n",
            "Epoch 67/100\n",
            "51/51 [==============================] - 0s 4ms/step - loss: 11479.9033\n",
            "Epoch 68/100\n",
            "51/51 [==============================] - 0s 4ms/step - loss: 17947.5524\n",
            "Epoch 69/100\n",
            "51/51 [==============================] - 0s 4ms/step - loss: 25369.4245\n",
            "Epoch 70/100\n",
            "51/51 [==============================] - 0s 4ms/step - loss: 10485.7400\n",
            "Epoch 71/100\n",
            "51/51 [==============================] - 0s 4ms/step - loss: 4186.5500\n",
            "Epoch 72/100\n",
            "51/51 [==============================] - 0s 4ms/step - loss: 5152.6434\n",
            "Epoch 73/100\n",
            "51/51 [==============================] - 0s 5ms/step - loss: 5601.4521\n",
            "Epoch 74/100\n",
            "51/51 [==============================] - 0s 4ms/step - loss: 3092.1553\n",
            "Epoch 75/100\n",
            "51/51 [==============================] - 0s 4ms/step - loss: 3689.0617\n",
            "Epoch 76/100\n",
            "51/51 [==============================] - 0s 4ms/step - loss: 6430.1042\n",
            "Epoch 77/100\n",
            "51/51 [==============================] - 0s 5ms/step - loss: 4704.2618\n",
            "Epoch 78/100\n",
            "51/51 [==============================] - 0s 4ms/step - loss: 3971.5410\n",
            "Epoch 79/100\n",
            "51/51 [==============================] - 0s 4ms/step - loss: 4869.8464\n",
            "Epoch 80/100\n",
            "51/51 [==============================] - 0s 4ms/step - loss: 3462.7581\n",
            "Epoch 81/100\n",
            "51/51 [==============================] - 0s 4ms/step - loss: 5404.4564\n",
            "Epoch 82/100\n",
            "51/51 [==============================] - 0s 4ms/step - loss: 3111.6847\n",
            "Epoch 83/100\n",
            "51/51 [==============================] - 0s 4ms/step - loss: 11103.3348\n",
            "Epoch 84/100\n",
            "51/51 [==============================] - 0s 4ms/step - loss: 14712.1653\n",
            "Epoch 85/100\n",
            "51/51 [==============================] - 0s 4ms/step - loss: 10557.8828\n",
            "Epoch 86/100\n",
            "51/51 [==============================] - 0s 4ms/step - loss: 6814.0874\n",
            "Epoch 87/100\n",
            "51/51 [==============================] - 0s 4ms/step - loss: 7059.3247\n",
            "Epoch 88/100\n",
            "51/51 [==============================] - 0s 4ms/step - loss: 7739.5906\n",
            "Epoch 89/100\n",
            "51/51 [==============================] - 0s 4ms/step - loss: 4215.2083\n",
            "Epoch 90/100\n",
            "51/51 [==============================] - 0s 4ms/step - loss: 10399.0858\n",
            "Epoch 91/100\n",
            "51/51 [==============================] - 0s 4ms/step - loss: 7165.6402\n",
            "Epoch 92/100\n",
            "51/51 [==============================] - 0s 5ms/step - loss: 10612.7258\n",
            "Epoch 93/100\n",
            "51/51 [==============================] - 0s 4ms/step - loss: 10368.6252\n",
            "Epoch 94/100\n",
            "51/51 [==============================] - 0s 4ms/step - loss: 5111.9905\n",
            "Epoch 95/100\n",
            "51/51 [==============================] - 0s 4ms/step - loss: 6153.8887\n",
            "Epoch 96/100\n",
            "51/51 [==============================] - 0s 4ms/step - loss: 11021.9561\n",
            "Epoch 97/100\n",
            "51/51 [==============================] - 0s 5ms/step - loss: 12508.1254\n",
            "Epoch 98/100\n",
            "51/51 [==============================] - 0s 4ms/step - loss: 7504.7796\n",
            "Epoch 99/100\n",
            "51/51 [==============================] - 0s 4ms/step - loss: 3963.6914\n",
            "Epoch 100/100\n",
            "51/51 [==============================] - 0s 4ms/step - loss: 11612.2988\n",
            "Runtime:  22.070722579956055 seconds\n"
          ],
          "name": "stdout"
        }
      ]
    },
    {
      "cell_type": "code",
      "metadata": {
        "colab_type": "code",
        "id": "pTP4RjYG7HJz",
        "colab": {}
      },
      "source": [
        "# Make predictions using LSTM Model\n",
        "trainPredict = model.predict(trainX)\n",
        "testPredict = model.predict(testX)\n",
        "\n",
        "# shift train predictions for plotting\n",
        "size = len(italy_dead)\n",
        "\n",
        "# Create NULL arrays\n",
        "trainPredictPlot = np.zeros(size)\n",
        "testPredictPlot = np.zeros(size)\n",
        "\n",
        "for i in range(size):\n",
        "    trainPredictPlot[i] = np.nan\n",
        "    testPredictPlot[i] = np.nan\n",
        "\n",
        "# Add predicted values to new arrays\n",
        "\n",
        "for i in range(len(trainPredict)):\n",
        "    trainPredictPlot[look_back + i] = trainPredict[i]\n",
        "\n",
        "for i in range(len(testPredict)):\n",
        "    testPredictPlot[len(trainPredict)+(look_back*2)+ i : len(italy_dead)-1] = testPredict[i]\n",
        "\n",
        "# Create Dataframes for each and merge everything\n",
        "trainPredictPlot = pd.DataFrame(trainPredictPlot, columns=['Train Predictions'])\n",
        "testPredictPlot = pd.DataFrame(testPredictPlot, columns=['Test Predictions'])\n",
        "\n",
        "italy_deads = pd.DataFrame(italy_dead.values.astype(\"float\"), columns=['Actual Deaths'])\n",
        "italy_deads = italy_deads.join(trainPredictPlot)\n",
        "italy_deads = italy_deads.join(testPredictPlot)\n",
        "italy_deads.index = italy_dead.index"
      ],
      "execution_count": 0,
      "outputs": []
    },
    {
      "cell_type": "markdown",
      "metadata": {
        "id": "cjWJqBkV4uAk",
        "colab_type": "text"
      },
      "source": [
        "### Future Predictions"
      ]
    },
    {
      "cell_type": "code",
      "metadata": {
        "colab_type": "code",
        "id": "PL5Pbx-m4wrS",
        "colab": {}
      },
      "source": [
        "dates_range = 15\n",
        "italy_dead_preds= italy_dead.copy()\n",
        "length = italy_dead.shape[0]\n",
        "italy_dead_preds = italy_dead_preds.reset_index()\n",
        "\n",
        "preds = np.zeros(dates_range)\n",
        "datelist = pd.date_range(italy.index[-1], periods=31)\n",
        "\n",
        "for i in range(dates_range-1):\n",
        "    col = italy_dead_preds['Deaths']\n",
        "    value = col[-look_back:]\n",
        "    value = value.values.reshape(1, 1, look_back)\n",
        "    preds = model.predict(value)\n",
        "    df = pd.DataFrame([[datelist[i+1], preds[0,0]]], columns=['index', 'Deaths'] )\n",
        "    italy_dead_preds = italy_dead_preds.append(df, ignore_index=True)\n",
        "\n",
        "italy_dead_preds = italy_dead_preds.set_index('index')"
      ],
      "execution_count": 0,
      "outputs": []
    },
    {
      "cell_type": "code",
      "metadata": {
        "id": "VTchYA9PBENF",
        "colab_type": "code",
        "colab": {
          "base_uri": "https://localhost:8080/",
          "height": 225
        },
        "outputId": "78981078-044b-4cc3-bae4-61f060d8e47e"
      },
      "source": [
        "italy_dead_preds.tail()"
      ],
      "execution_count": 280,
      "outputs": [
        {
          "output_type": "execute_result",
          "data": {
            "text/html": [
              "<div>\n",
              "<style scoped>\n",
              "    .dataframe tbody tr th:only-of-type {\n",
              "        vertical-align: middle;\n",
              "    }\n",
              "\n",
              "    .dataframe tbody tr th {\n",
              "        vertical-align: top;\n",
              "    }\n",
              "\n",
              "    .dataframe thead th {\n",
              "        text-align: right;\n",
              "    }\n",
              "</style>\n",
              "<table border=\"1\" class=\"dataframe\">\n",
              "  <thead>\n",
              "    <tr style=\"text-align: right;\">\n",
              "      <th></th>\n",
              "      <th>Deaths</th>\n",
              "    </tr>\n",
              "    <tr>\n",
              "      <th>index</th>\n",
              "      <th></th>\n",
              "    </tr>\n",
              "  </thead>\n",
              "  <tbody>\n",
              "    <tr>\n",
              "      <th>2020-04-13</th>\n",
              "      <td>42356.132812</td>\n",
              "    </tr>\n",
              "    <tr>\n",
              "      <th>2020-04-14</th>\n",
              "      <td>46762.343750</td>\n",
              "    </tr>\n",
              "    <tr>\n",
              "      <th>2020-04-15</th>\n",
              "      <td>51643.328125</td>\n",
              "    </tr>\n",
              "    <tr>\n",
              "      <th>2020-04-16</th>\n",
              "      <td>57321.335938</td>\n",
              "    </tr>\n",
              "    <tr>\n",
              "      <th>2020-04-17</th>\n",
              "      <td>62983.695312</td>\n",
              "    </tr>\n",
              "  </tbody>\n",
              "</table>\n",
              "</div>"
            ],
            "text/plain": [
              "                  Deaths\n",
              "index                   \n",
              "2020-04-13  42356.132812\n",
              "2020-04-14  46762.343750\n",
              "2020-04-15  51643.328125\n",
              "2020-04-16  57321.335938\n",
              "2020-04-17  62983.695312"
            ]
          },
          "metadata": {
            "tags": []
          },
          "execution_count": 280
        }
      ]
    },
    {
      "cell_type": "markdown",
      "metadata": {
        "id": "HEwSRIIV9hyI",
        "colab_type": "text"
      },
      "source": [
        "# Plots for Italy\n",
        "\n",
        "We generate plots for Italy. <br>\n",
        "On the left, we plotted the Trained and tested predictions with the actual values for each category. <br>\n",
        "\n",
        "On the right, we plotted the predicted future trends of the virus in Italy along with the actual values. Actual values stop at one point, which is the point until when the data was collected."
      ]
    },
    {
      "cell_type": "code",
      "metadata": {
        "colab_type": "code",
        "outputId": "03971922-e526-4605-8937-584689af7a8b",
        "id": "EbWI61Fz7MqZ",
        "colab": {
          "base_uri": "https://localhost:8080/",
          "height": 1000
        }
      },
      "source": [
        "# plot Confirmed actual cases and predictions\n",
        "fig = plt.figure(figsize=(17,22))\n",
        "\n",
        "plt.subplot(3,2,1)\n",
        "plt.plot(italy_conf.iloc[:,0], label=italy_conf.iloc[:,0].name, marker='o')\n",
        "plt.plot(italy_conf.iloc[:,1], label=italy_conf.iloc[:,1].name, marker='s')\n",
        "plt.plot(italy_conf.iloc[:,2], label=italy_conf.iloc[:,2].name, marker='v')\n",
        "plt.xlabel('Date', fontsize=15)\n",
        "# plt.ylabel('Number of Cases', fontsize=15)\n",
        "plt.title('For Confirmed Cases in Italy', fontsize=15)\n",
        "plt.legend()\n",
        "\n",
        "\n",
        "plt.subplot(3,2,2)\n",
        "plt.plot(italy_conf_preds.Confirmed, label='Predicted', marker='*')\n",
        "plt.plot(italy_conf.iloc[:,0], label='Actual', marker='o')\n",
        "plt.xlabel('Date', fontsize=15)\n",
        "# plt.ylabel('Number of Cases', fontsize=15)\n",
        "plt.title('Predictions for Confirmed Cases', fontsize=15)\n",
        "plt.legend()\n",
        "\n",
        "# plot Recovered actual cases and predictions\n",
        "plt.subplot(3,2,3)\n",
        "plt.plot(italy_recv.iloc[:,0], label=italy_recv.iloc[:,0].name, marker='o')\n",
        "plt.plot(italy_recv.iloc[:,1], label=italy_recv.iloc[:,1].name, marker='s')\n",
        "plt.plot(italy_recv.iloc[:,2], label=italy_recv.iloc[:,2].name, marker='v')\n",
        "plt.xlabel('Date', fontsize=15)\n",
        "# plt.ylabel('Number of Cases', fontsize=15)\n",
        "plt.title('For Recovered Cases in Italy', fontsize=15)\n",
        "plt.legend()\n",
        "\n",
        "plt.subplot(3,2,4)\n",
        "plt.plot(italy_recv_preds.Recovered, label='Predictions', marker='*')\n",
        "plt.plot(italy_recv.iloc[:,0], label='Actual', marker='o')\n",
        "plt.xlabel('Date', fontsize=15)\n",
        "# plt.ylabel('Number of Cases', fontsize=15)\n",
        "plt.title('Predictions for Recovered Cases', fontsize=15)\n",
        "plt.legend()\n",
        "\n",
        "# plot actual Deaths and predictions\n",
        "plt.subplot(3,2,5)\n",
        "plt.plot(italy_deads.iloc[:,0], label=italy_deads.iloc[:,0].name, marker='o')\n",
        "plt.plot(italy_deads.iloc[:,1], label=italy_deads.iloc[:,1].name, marker='s')\n",
        "plt.plot(italy_deads.iloc[:,2], label=italy_deads.iloc[:,2].name, marker='v')\n",
        "plt.xlabel('Date', fontsize=15)\n",
        "# plt.ylabel('Number of Cases', fontsize=15)\n",
        "plt.title('For Death Cases in Italy', fontsize=15)\n",
        "plt.legend()\n",
        "\n",
        "plt.subplot(3,2,6)\n",
        "plt.plot(italy_dead_preds.Deaths, label='Predictions', marker='*')\n",
        "plt.plot(italy_deads.iloc[:,0], label='Actual', marker='o')\n",
        "plt.xlabel('Date', fontsize=15)\n",
        "plt.title('Predictions for Deaths', fontsize=15)\n",
        "plt.legend()"
      ],
      "execution_count": 100,
      "outputs": [
        {
          "output_type": "execute_result",
          "data": {
            "text/plain": [
              "<matplotlib.legend.Legend at 0x7f8eb32bdf60>"
            ]
          },
          "metadata": {
            "tags": []
          },
          "execution_count": 100
        },
        {
          "output_type": "display_data",
          "data": {
            "image/png": "[encoded data removed]",
            "text/plain": [
              "<Figure size 1224x1584 with 6 Axes>"
            ]
          },
          "metadata": {
            "tags": [],
            "needs_background": "light"
          }
        }
      ]
    },
    {
      "cell_type": "markdown",
      "metadata": {
        "id": "wyHSdRUw9917",
        "colab_type": "text"
      },
      "source": [
        "# World\n",
        "\n",
        "Now we shift our focus to the World demographics that are affected by COVID-19. <br>\n",
        "\n",
        "We tune our LSTM model for the world data, generate predictions and plot those predictions against the actual values.<br>\n",
        "These predictions generated try to foresee the next 20 days of disease spread, until April 22, 2020."
      ]
    },
    {
      "cell_type": "code",
      "metadata": {
        "id": "-jKoDg5_CG3Z",
        "colab_type": "code",
        "colab": {}
      },
      "source": [
        "world_confirmed = pd.DataFrame(world_conf)\n",
        "world_confirmed = world_confirmed.rename(columns={0: 'Confirmed'})\n",
        "\n",
        "world_recovered = pd.DataFrame(world_recv)\n",
        "world_recovered = world_recovered.rename(columns={0: 'Recovered'})\n",
        "\n",
        "world_dead = pd.DataFrame(world_dead)\n",
        "world_dead = world_dead.rename(columns={0: 'Deaths'})\n"
      ],
      "execution_count": 0,
      "outputs": []
    },
    {
      "cell_type": "code",
      "metadata": {
        "id": "0fJUhpehEtpQ",
        "colab_type": "code",
        "colab": {
          "base_uri": "https://localhost:8080/",
          "height": 195
        },
        "outputId": "4e37f69b-8d44-4937-dae0-5bf50ceeac31"
      },
      "source": [
        "world_confirmed.tail()"
      ],
      "execution_count": 178,
      "outputs": [
        {
          "output_type": "execute_result",
          "data": {
            "text/html": [
              "<div>\n",
              "<style scoped>\n",
              "    .dataframe tbody tr th:only-of-type {\n",
              "        vertical-align: middle;\n",
              "    }\n",
              "\n",
              "    .dataframe tbody tr th {\n",
              "        vertical-align: top;\n",
              "    }\n",
              "\n",
              "    .dataframe thead th {\n",
              "        text-align: right;\n",
              "    }\n",
              "</style>\n",
              "<table border=\"1\" class=\"dataframe\">\n",
              "  <thead>\n",
              "    <tr style=\"text-align: right;\">\n",
              "      <th></th>\n",
              "      <th>Confirmed</th>\n",
              "    </tr>\n",
              "  </thead>\n",
              "  <tbody>\n",
              "    <tr>\n",
              "      <th>2020-03-30</th>\n",
              "      <td>782365</td>\n",
              "    </tr>\n",
              "    <tr>\n",
              "      <th>2020-03-31</th>\n",
              "      <td>857487</td>\n",
              "    </tr>\n",
              "    <tr>\n",
              "      <th>2020-04-01</th>\n",
              "      <td>932605</td>\n",
              "    </tr>\n",
              "    <tr>\n",
              "      <th>2020-04-02</th>\n",
              "      <td>1013157</td>\n",
              "    </tr>\n",
              "    <tr>\n",
              "      <th>2020-04-03</th>\n",
              "      <td>1095917</td>\n",
              "    </tr>\n",
              "  </tbody>\n",
              "</table>\n",
              "</div>"
            ],
            "text/plain": [
              "            Confirmed\n",
              "2020-03-30     782365\n",
              "2020-03-31     857487\n",
              "2020-04-01     932605\n",
              "2020-04-02    1013157\n",
              "2020-04-03    1095917"
            ]
          },
          "metadata": {
            "tags": []
          },
          "execution_count": 178
        }
      ]
    },
    {
      "cell_type": "markdown",
      "metadata": {
        "id": "wVkUvoUeBLcb",
        "colab_type": "text"
      },
      "source": [
        "## For Worldwide Confirmed Cases"
      ]
    },
    {
      "cell_type": "code",
      "metadata": {
        "colab_type": "code",
        "outputId": "06cd816f-ad24-4735-852a-31c0bc208a63",
        "id": "cSuudw1HBrKQ",
        "colab": {
          "base_uri": "https://localhost:8080/",
          "height": 50
        }
      },
      "source": [
        "# Split the series for training and testing\n",
        "size = world_confirmed.shape[0]\n",
        "tr =int(round(size*0.8))\n",
        "X_train, X_test = world_confirmed[:tr] , world_confirmed[tr:]\n",
        "\n",
        "# Reshape the series for further computations\n",
        "X_train = X_train.values.reshape(-1,1)\n",
        "X_test = X_test.values.reshape(-1,1)\n",
        "\n",
        "# Create train and test windows\n",
        "look_back = 12\n",
        "trainX, trainY = create_dataset(X_train, look_back)\n",
        "testX, testY = create_dataset(X_test, look_back)\n",
        "\n",
        "# reshape input to be [samples, time steps, features] for LSTM\n",
        "trainX = np.reshape(trainX, (trainX.shape[0], 1, trainX.shape[1]))\n",
        "testX = np.reshape(testX, (testX.shape[0], 1, testX.shape[1]))\n"
      ],
      "execution_count": 239,
      "outputs": [
        {
          "output_type": "stream",
          "text": [
            "58\n",
            "15\n"
          ],
          "name": "stdout"
        }
      ]
    },
    {
      "cell_type": "code",
      "metadata": {
        "colab_type": "code",
        "outputId": "868b6ca3-b765-4cf6-b40e-37691ec4f9a0",
        "id": "fp89TP1OB2Z5",
        "colab": {
          "base_uri": "https://localhost:8080/",
          "height": 961
        }
      },
      "source": [
        "# create and fit the LSTM network\n",
        "model = Sequential()\n",
        "\n",
        "model.add(LSTM(15, input_shape=(1, look_back), activation='relu', dropout=0.3))\n",
        "\n",
        "model.add(Dense(1, activation=LeakyReLU(alpha=0.1)))\n",
        "model.summary()\n",
        "\n",
        "opt = Adam(lr=0.001, beta_1=0.9, beta_2=0.999 )\n",
        "\n",
        "model.compile(loss='mean_squared_error', optimizer=opt)\n",
        "\n",
        "start = time.time()\n",
        "model.fit(trainX, trainY, epochs=20, batch_size=1, verbose=1)\n",
        "end = time.time()\n",
        "\n",
        "runtime = end-start\n",
        "print('Runtime: ', runtime, 'seconds')"
      ],
      "execution_count": 240,
      "outputs": [
        {
          "output_type": "stream",
          "text": [
            "/usr/local/lib/python3.6/dist-packages/keras/activations.py:235: UserWarning: Do not pass a layer instance (such as LeakyReLU) as the activation argument of another layer. Instead, advanced activation layers should be used just like any other layer in a model.\n",
            "  identifier=identifier.__class__.__name__))\n"
          ],
          "name": "stderr"
        },
        {
          "output_type": "stream",
          "text": [
            "Model: \"sequential_28\"\n",
            "_________________________________________________________________\n",
            "Layer (type)                 Output Shape              Param #   \n",
            "=================================================================\n",
            "lstm_28 (LSTM)               (None, 15)                1680      \n",
            "_________________________________________________________________\n",
            "dense_28 (Dense)             (None, 1)                 16        \n",
            "=================================================================\n",
            "Total params: 1,696\n",
            "Trainable params: 1,696\n",
            "Non-trainable params: 0\n",
            "_________________________________________________________________\n",
            "Epoch 1/20\n",
            "45/45 [==============================] - 0s 9ms/step - loss: 8022848827.0222\n",
            "Epoch 2/20\n",
            "45/45 [==============================] - 0s 5ms/step - loss: 6276465001.9556\n",
            "Epoch 3/20\n",
            "45/45 [==============================] - 0s 4ms/step - loss: 3616172942.3111\n",
            "Epoch 4/20\n",
            "45/45 [==============================] - 0s 4ms/step - loss: 3001252233.1778\n",
            "Epoch 5/20\n",
            "45/45 [==============================] - 0s 4ms/step - loss: 2501862616.5556\n",
            "Epoch 6/20\n",
            "45/45 [==============================] - 0s 4ms/step - loss: 1490939853.9639\n",
            "Epoch 7/20\n",
            "45/45 [==============================] - 0s 4ms/step - loss: 817835508.9972\n",
            "Epoch 8/20\n",
            "45/45 [==============================] - 0s 4ms/step - loss: 1462710303.7507\n",
            "Epoch 9/20\n",
            "45/45 [==============================] - 0s 4ms/step - loss: 1456969488.2800\n",
            "Epoch 10/20\n",
            "45/45 [==============================] - 0s 4ms/step - loss: 1179777167.6167\n",
            "Epoch 11/20\n",
            "45/45 [==============================] - 0s 4ms/step - loss: 947163214.6222\n",
            "Epoch 12/20\n",
            "45/45 [==============================] - 0s 5ms/step - loss: 622661454.9389\n",
            "Epoch 13/20\n",
            "45/45 [==============================] - 0s 4ms/step - loss: 645987961.4941\n",
            "Epoch 14/20\n",
            "45/45 [==============================] - 0s 4ms/step - loss: 676196807.7166\n",
            "Epoch 15/20\n",
            "45/45 [==============================] - 0s 4ms/step - loss: 1136080602.0778\n",
            "Epoch 16/20\n",
            "45/45 [==============================] - 0s 4ms/step - loss: 788318497.1194\n",
            "Epoch 17/20\n",
            "45/45 [==============================] - 0s 4ms/step - loss: 1052677458.1333\n",
            "Epoch 18/20\n",
            "45/45 [==============================] - 0s 4ms/step - loss: 1510643102.1877\n",
            "Epoch 19/20\n",
            "45/45 [==============================] - 0s 4ms/step - loss: 949109892.1033\n",
            "Epoch 20/20\n",
            "45/45 [==============================] - 0s 4ms/step - loss: 1174318303.8458\n",
            "Runtime:  4.492348909378052 seconds\n"
          ],
          "name": "stdout"
        }
      ]
    },
    {
      "cell_type": "code",
      "metadata": {
        "colab_type": "code",
        "id": "sfq4jMH8CA04",
        "colab": {}
      },
      "source": [
        "dates_range = 20\n",
        "world_conf_preds= world_confirmed.copy()\n",
        "length = world_confirmed.shape[0]\n",
        "world_conf_preds = world_conf_preds.reset_index()\n",
        "\n",
        "preds = np.zeros(dates_range)\n",
        "datelist = pd.date_range(world_conf.index[-1], periods=dates_range)\n",
        "\n",
        "for i in range(dates_range-1):\n",
        "    value = world_conf_preds.iloc[:,1][-look_back:]\n",
        "    value = value.values.reshape(1, 1, look_back)\n",
        "    preds = model.predict(value)\n",
        "    df = pd.DataFrame([[datelist[i+1], preds[0,0]]], columns=['index', 'Confirmed'] )\n",
        "    world_conf_preds = world_conf_preds.append(df, ignore_index=True)\n",
        "\n",
        "world_conf_preds = world_conf_preds.set_index('index')"
      ],
      "execution_count": 0,
      "outputs": []
    },
    {
      "cell_type": "code",
      "metadata": {
        "id": "citsw-upHrUj",
        "colab_type": "code",
        "colab": {
          "base_uri": "https://localhost:8080/",
          "height": 225
        },
        "outputId": "75fdd82a-b979-42c1-ec04-7c57203b36cb"
      },
      "source": [
        "world_conf_preds.tail()"
      ],
      "execution_count": 245,
      "outputs": [
        {
          "output_type": "execute_result",
          "data": {
            "text/html": [
              "<div>\n",
              "<style scoped>\n",
              "    .dataframe tbody tr th:only-of-type {\n",
              "        vertical-align: middle;\n",
              "    }\n",
              "\n",
              "    .dataframe tbody tr th {\n",
              "        vertical-align: top;\n",
              "    }\n",
              "\n",
              "    .dataframe thead th {\n",
              "        text-align: right;\n",
              "    }\n",
              "</style>\n",
              "<table border=\"1\" class=\"dataframe\">\n",
              "  <thead>\n",
              "    <tr style=\"text-align: right;\">\n",
              "      <th></th>\n",
              "      <th>Confirmed</th>\n",
              "    </tr>\n",
              "    <tr>\n",
              "      <th>index</th>\n",
              "      <th></th>\n",
              "    </tr>\n",
              "  </thead>\n",
              "  <tbody>\n",
              "    <tr>\n",
              "      <th>2020-04-18</th>\n",
              "      <td>1647196.500</td>\n",
              "    </tr>\n",
              "    <tr>\n",
              "      <th>2020-04-19</th>\n",
              "      <td>1704498.625</td>\n",
              "    </tr>\n",
              "    <tr>\n",
              "      <th>2020-04-20</th>\n",
              "      <td>1750864.875</td>\n",
              "    </tr>\n",
              "    <tr>\n",
              "      <th>2020-04-21</th>\n",
              "      <td>1842224.875</td>\n",
              "    </tr>\n",
              "    <tr>\n",
              "      <th>2020-04-22</th>\n",
              "      <td>1900902.875</td>\n",
              "    </tr>\n",
              "  </tbody>\n",
              "</table>\n",
              "</div>"
            ],
            "text/plain": [
              "              Confirmed\n",
              "index                  \n",
              "2020-04-18  1647196.500\n",
              "2020-04-19  1704498.625\n",
              "2020-04-20  1750864.875\n",
              "2020-04-21  1842224.875\n",
              "2020-04-22  1900902.875"
            ]
          },
          "metadata": {
            "tags": []
          },
          "execution_count": 245
        }
      ]
    },
    {
      "cell_type": "markdown",
      "metadata": {
        "id": "94pz2f7JBP0a",
        "colab_type": "text"
      },
      "source": [
        "## For Worldwide Recovered Cases"
      ]
    },
    {
      "cell_type": "code",
      "metadata": {
        "colab_type": "code",
        "outputId": "1597ab1d-12cd-4a79-d8c3-f372584be27e",
        "id": "JdpRrlCoBrZE",
        "colab": {
          "base_uri": "https://localhost:8080/",
          "height": 50
        }
      },
      "source": [
        "# Split the series for training and testing\n",
        "size = world_recovered.shape[0]\n",
        "tr =int(round(size*0.8))\n",
        "X_train, X_test = world_recovered[:tr] , world_recovered[tr:]\n",
        "\n",
        "# Reshape the series for further computations\n",
        "X_train = X_train.values.reshape(-1,1)\n",
        "X_test = X_test.values.reshape(-1,1)\n",
        "\n",
        "# Create train and test windows\n",
        "look_back = 12\n",
        "trainX, trainY = create_dataset(X_train, look_back)\n",
        "testX, testY = create_dataset(X_test, look_back)\n",
        "\n",
        "# reshape input to be [samples, time steps, features] for LSTM\n",
        "trainX = np.reshape(trainX, (trainX.shape[0], 1, trainX.shape[1]))\n",
        "testX = np.reshape(testX, (testX.shape[0], 1, testX.shape[1]))\n"
      ],
      "execution_count": 247,
      "outputs": [
        {
          "output_type": "stream",
          "text": [
            "58\n",
            "15\n"
          ],
          "name": "stdout"
        }
      ]
    },
    {
      "cell_type": "code",
      "metadata": {
        "colab_type": "code",
        "outputId": "3df39264-dc8d-4b4b-834e-33988271a23d",
        "id": "vitI2Z12B2md",
        "colab": {
          "base_uri": "https://localhost:8080/",
          "height": 961
        }
      },
      "source": [
        "# create and fit the LSTM network\n",
        "model = Sequential()\n",
        "\n",
        "model.add(LSTM(40, input_shape=(1, look_back), activation='relu', dropout=0.2))\n",
        "\n",
        "model.add(Dense(1, activation=LeakyReLU(alpha=0.1)))\n",
        "model.summary()\n",
        "\n",
        "opt = Adam(lr=0.001, beta_1=0.9, beta_2=0.999 )\n",
        "\n",
        "model.compile(loss='mean_squared_error', optimizer=opt)\n",
        "\n",
        "start = time.time()\n",
        "model.fit(trainX, trainY, epochs=20, batch_size=1, verbose=1)\n",
        "end = time.time()\n",
        "\n",
        "runtime = end-start\n",
        "print('Runtime: ', runtime, 'seconds')"
      ],
      "execution_count": 254,
      "outputs": [
        {
          "output_type": "stream",
          "text": [
            "/usr/local/lib/python3.6/dist-packages/keras/activations.py:235: UserWarning: Do not pass a layer instance (such as LeakyReLU) as the activation argument of another layer. Instead, advanced activation layers should be used just like any other layer in a model.\n",
            "  identifier=identifier.__class__.__name__))\n"
          ],
          "name": "stderr"
        },
        {
          "output_type": "stream",
          "text": [
            "Model: \"sequential_31\"\n",
            "_________________________________________________________________\n",
            "Layer (type)                 Output Shape              Param #   \n",
            "=================================================================\n",
            "lstm_31 (LSTM)               (None, 40)                8480      \n",
            "_________________________________________________________________\n",
            "dense_31 (Dense)             (None, 1)                 41        \n",
            "=================================================================\n",
            "Total params: 8,521\n",
            "Trainable params: 8,521\n",
            "Non-trainable params: 0\n",
            "_________________________________________________________________\n",
            "Epoch 1/20\n",
            "45/45 [==============================] - 0s 9ms/step - loss: 1818710655.0049\n",
            "Epoch 2/20\n",
            "45/45 [==============================] - 0s 4ms/step - loss: 1260595581.3278\n",
            "Epoch 3/20\n",
            "45/45 [==============================] - 0s 4ms/step - loss: 591302497.2069\n",
            "Epoch 4/20\n",
            "45/45 [==============================] - 0s 4ms/step - loss: 224676783.7660\n",
            "Epoch 5/20\n",
            "45/45 [==============================] - 0s 4ms/step - loss: 99297322.6931\n",
            "Epoch 6/20\n",
            "45/45 [==============================] - 0s 4ms/step - loss: 90087441.6215\n",
            "Epoch 7/20\n",
            "45/45 [==============================] - 0s 4ms/step - loss: 106495101.6101\n",
            "Epoch 8/20\n",
            "45/45 [==============================] - 0s 4ms/step - loss: 61725367.2675\n",
            "Epoch 9/20\n",
            "45/45 [==============================] - 0s 4ms/step - loss: 90832886.7944\n",
            "Epoch 10/20\n",
            "45/45 [==============================] - 0s 4ms/step - loss: 117979345.7910\n",
            "Epoch 11/20\n",
            "45/45 [==============================] - 0s 4ms/step - loss: 87179016.2809\n",
            "Epoch 12/20\n",
            "45/45 [==============================] - 0s 4ms/step - loss: 180270330.3667\n",
            "Epoch 13/20\n",
            "45/45 [==============================] - 0s 4ms/step - loss: 57670930.1807\n",
            "Epoch 14/20\n",
            "45/45 [==============================] - 0s 4ms/step - loss: 127461388.2844\n",
            "Epoch 15/20\n",
            "45/45 [==============================] - 0s 4ms/step - loss: 92378555.6358\n",
            "Epoch 16/20\n",
            "45/45 [==============================] - 0s 5ms/step - loss: 71055398.0767\n",
            "Epoch 17/20\n",
            "45/45 [==============================] - 0s 5ms/step - loss: 44957614.9269\n",
            "Epoch 18/20\n",
            "45/45 [==============================] - 0s 4ms/step - loss: 90532888.0924\n",
            "Epoch 19/20\n",
            "45/45 [==============================] - 0s 4ms/step - loss: 84107985.7201\n",
            "Epoch 20/20\n",
            "45/45 [==============================] - 0s 4ms/step - loss: 114961455.1608\n",
            "Runtime:  4.42106294631958 seconds\n"
          ],
          "name": "stdout"
        }
      ]
    },
    {
      "cell_type": "code",
      "metadata": {
        "colab_type": "code",
        "id": "ycJnp79qIM2o",
        "colab": {}
      },
      "source": [
        "dates_range = 20\n",
        "world_recv_preds= world_recovered.copy()\n",
        "length = world_recovered.shape[0]\n",
        "world_recv_preds = world_recv_preds.reset_index()\n",
        "\n",
        "preds = np.zeros(dates_range)\n",
        "datelist = pd.date_range(world_recv.index[-1], periods=dates_range)\n",
        "\n",
        "for i in range(dates_range-1):\n",
        "    value = world_recv_preds.iloc[:,1][-look_back:]\n",
        "    value = value.values.reshape(1, 1, look_back)\n",
        "    preds = model.predict(value)\n",
        "    df = pd.DataFrame([[datelist[i+1], preds[0,0]]], columns=['index', 'Recovered'] )\n",
        "    world_recv_preds = world_recv_preds.append(df, ignore_index=True)\n",
        "\n",
        "world_recv_preds = world_recv_preds.set_index('index')"
      ],
      "execution_count": 0,
      "outputs": []
    },
    {
      "cell_type": "code",
      "metadata": {
        "id": "WAU5uQLrIW6_",
        "colab_type": "code",
        "colab": {
          "base_uri": "https://localhost:8080/",
          "height": 225
        },
        "outputId": "aa6a3621-6f77-4904-a472-32ad0e1d2c3e"
      },
      "source": [
        "world_recv_preds.tail()"
      ],
      "execution_count": 279,
      "outputs": [
        {
          "output_type": "execute_result",
          "data": {
            "text/html": [
              "<div>\n",
              "<style scoped>\n",
              "    .dataframe tbody tr th:only-of-type {\n",
              "        vertical-align: middle;\n",
              "    }\n",
              "\n",
              "    .dataframe tbody tr th {\n",
              "        vertical-align: top;\n",
              "    }\n",
              "\n",
              "    .dataframe thead th {\n",
              "        text-align: right;\n",
              "    }\n",
              "</style>\n",
              "<table border=\"1\" class=\"dataframe\">\n",
              "  <thead>\n",
              "    <tr style=\"text-align: right;\">\n",
              "      <th></th>\n",
              "      <th>Recovered</th>\n",
              "    </tr>\n",
              "    <tr>\n",
              "      <th>index</th>\n",
              "      <th></th>\n",
              "    </tr>\n",
              "  </thead>\n",
              "  <tbody>\n",
              "    <tr>\n",
              "      <th>2020-04-18</th>\n",
              "      <td>384228.90625</td>\n",
              "    </tr>\n",
              "    <tr>\n",
              "      <th>2020-04-19</th>\n",
              "      <td>401151.21875</td>\n",
              "    </tr>\n",
              "    <tr>\n",
              "      <th>2020-04-20</th>\n",
              "      <td>419013.09375</td>\n",
              "    </tr>\n",
              "    <tr>\n",
              "      <th>2020-04-21</th>\n",
              "      <td>437660.37500</td>\n",
              "    </tr>\n",
              "    <tr>\n",
              "      <th>2020-04-22</th>\n",
              "      <td>457194.18750</td>\n",
              "    </tr>\n",
              "  </tbody>\n",
              "</table>\n",
              "</div>"
            ],
            "text/plain": [
              "               Recovered\n",
              "index                   \n",
              "2020-04-18  384228.90625\n",
              "2020-04-19  401151.21875\n",
              "2020-04-20  419013.09375\n",
              "2020-04-21  437660.37500\n",
              "2020-04-22  457194.18750"
            ]
          },
          "metadata": {
            "tags": []
          },
          "execution_count": 279
        }
      ]
    },
    {
      "cell_type": "markdown",
      "metadata": {
        "id": "Qpb_p2cABQCy",
        "colab_type": "text"
      },
      "source": [
        "## For Worldwide Deaths"
      ]
    },
    {
      "cell_type": "code",
      "metadata": {
        "colab_type": "code",
        "outputId": "b2c8dd22-4786-401f-cefb-f1a4f903811c",
        "id": "efEujtK5Brfp",
        "colab": {
          "base_uri": "https://localhost:8080/",
          "height": 50
        }
      },
      "source": [
        "# Split the series for training and testing\n",
        "size = world_dead.shape[0]\n",
        "tr =int(round(size*0.8))\n",
        "X_train, X_test = world_dead[:tr] , world_dead[tr:]\n",
        "\n",
        "# Reshape the series for further computations\n",
        "X_train = X_train.values.reshape(-1,1)\n",
        "X_test = X_test.values.reshape(-1,1)\n",
        "\n",
        "# Create train and test windows\n",
        "look_back = 12\n",
        "trainX, trainY = create_dataset(X_train, look_back)\n",
        "testX, testY = create_dataset(X_test, look_back)\n",
        "\n",
        "# reshape input to be [samples, time steps, features] for LSTM\n",
        "trainX = np.reshape(trainX, (trainX.shape[0], 1, trainX.shape[1]))\n",
        "testX = np.reshape(testX, (testX.shape[0], 1, testX.shape[1]))\n"
      ],
      "execution_count": 258,
      "outputs": [
        {
          "output_type": "stream",
          "text": [
            "58\n",
            "15\n"
          ],
          "name": "stdout"
        }
      ]
    },
    {
      "cell_type": "code",
      "metadata": {
        "colab_type": "code",
        "outputId": "5c1888d8-48f7-44e9-a2f1-11cf4b718de1",
        "id": "orgHvjtYB2xI",
        "colab": {
          "base_uri": "https://localhost:8080/",
          "height": 961
        }
      },
      "source": [
        "# create and fit the LSTM network\n",
        "model = Sequential()\n",
        "\n",
        "model.add(LSTM(35, input_shape=(1, look_back), activation='relu', dropout=0.2))\n",
        "\n",
        "model.add(Dense(1, activation=LeakyReLU(alpha=0.1)))\n",
        "model.summary()\n",
        "\n",
        "opt = Adam(lr=0.001, beta_1=0.9, beta_2=0.999 )\n",
        "\n",
        "model.compile(loss='mean_squared_error', optimizer=opt)\n",
        "\n",
        "start = time.time()\n",
        "model.fit(trainX, trainY, epochs=20, batch_size=1, verbose=1)\n",
        "end = time.time()\n",
        "\n",
        "runtime = end-start\n",
        "print('Runtime: ', runtime, 'seconds')"
      ],
      "execution_count": 270,
      "outputs": [
        {
          "output_type": "stream",
          "text": [
            "/usr/local/lib/python3.6/dist-packages/keras/activations.py:235: UserWarning: Do not pass a layer instance (such as LeakyReLU) as the activation argument of another layer. Instead, advanced activation layers should be used just like any other layer in a model.\n",
            "  identifier=identifier.__class__.__name__))\n"
          ],
          "name": "stderr"
        },
        {
          "output_type": "stream",
          "text": [
            "Model: \"sequential_35\"\n",
            "_________________________________________________________________\n",
            "Layer (type)                 Output Shape              Param #   \n",
            "=================================================================\n",
            "lstm_35 (LSTM)               (None, 35)                5880      \n",
            "_________________________________________________________________\n",
            "dense_35 (Dense)             (None, 1)                 36        \n",
            "=================================================================\n",
            "Total params: 5,916\n",
            "Trainable params: 5,916\n",
            "Non-trainable params: 0\n",
            "_________________________________________________________________\n",
            "Epoch 1/20\n",
            "51/51 [==============================] - 0s 9ms/step - loss: 8924259.3184\n",
            "Epoch 2/20\n",
            "51/51 [==============================] - 0s 4ms/step - loss: 3934579.4637\n",
            "Epoch 3/20\n",
            "51/51 [==============================] - 0s 4ms/step - loss: 1982528.0863\n",
            "Epoch 4/20\n",
            "51/51 [==============================] - 0s 4ms/step - loss: 1279093.8612\n",
            "Epoch 5/20\n",
            "51/51 [==============================] - 0s 4ms/step - loss: 943188.4154\n",
            "Epoch 6/20\n",
            "51/51 [==============================] - 0s 4ms/step - loss: 1249985.5965\n",
            "Epoch 7/20\n",
            "51/51 [==============================] - 0s 4ms/step - loss: 1078631.4981\n",
            "Epoch 8/20\n",
            "51/51 [==============================] - 0s 4ms/step - loss: 867709.0501\n",
            "Epoch 9/20\n",
            "51/51 [==============================] - 0s 4ms/step - loss: 1039322.4555\n",
            "Epoch 10/20\n",
            "51/51 [==============================] - 0s 4ms/step - loss: 470432.6521\n",
            "Epoch 11/20\n",
            "51/51 [==============================] - 0s 4ms/step - loss: 630196.4236\n",
            "Epoch 12/20\n",
            "51/51 [==============================] - 0s 4ms/step - loss: 391901.9484\n",
            "Epoch 13/20\n",
            "51/51 [==============================] - 0s 5ms/step - loss: 350453.7745\n",
            "Epoch 14/20\n",
            "51/51 [==============================] - 0s 4ms/step - loss: 227272.8739\n",
            "Epoch 15/20\n",
            "51/51 [==============================] - 0s 4ms/step - loss: 479270.8781\n",
            "Epoch 16/20\n",
            "51/51 [==============================] - 0s 4ms/step - loss: 576403.6307\n",
            "Epoch 17/20\n",
            "51/51 [==============================] - 0s 4ms/step - loss: 820872.0677\n",
            "Epoch 18/20\n",
            "51/51 [==============================] - 0s 4ms/step - loss: 268325.6778\n",
            "Epoch 19/20\n",
            "51/51 [==============================] - 0s 4ms/step - loss: 325145.1044\n",
            "Epoch 20/20\n",
            "51/51 [==============================] - 0s 5ms/step - loss: 403777.1443\n",
            "Runtime:  5.016364812850952 seconds\n"
          ],
          "name": "stdout"
        }
      ]
    },
    {
      "cell_type": "code",
      "metadata": {
        "colab_type": "code",
        "id": "UCvcvuFkIo1a",
        "colab": {}
      },
      "source": [
        "dates_range = 20\n",
        "world_dead_preds= world_dead.copy()\n",
        "length = world_dead.shape[0]\n",
        "world_dead_preds = world_dead_preds.reset_index()\n",
        "\n",
        "preds = np.zeros(dates_range)\n",
        "datelist = pd.date_range(world_dead.index[-1], periods=dates_range)\n",
        "\n",
        "for i in range(dates_range-1):\n",
        "    value = world_dead_preds.iloc[:,1][-look_back:]\n",
        "    value = value.values.reshape(1, 1, look_back)\n",
        "    preds = model.predict(value)\n",
        "    df = pd.DataFrame([[datelist[i+1], preds[0,0]]], columns=['index', 'Deaths'] )\n",
        "    world_dead_preds = world_dead_preds.append(df, ignore_index=True)\n",
        "\n",
        "world_dead_preds = world_dead_preds.set_index('index')"
      ],
      "execution_count": 0,
      "outputs": []
    },
    {
      "cell_type": "code",
      "metadata": {
        "id": "xFhIkOuD-vVi",
        "colab_type": "code",
        "colab": {
          "base_uri": "https://localhost:8080/",
          "height": 225
        },
        "outputId": "d521e077-a871-4369-83ad-de658a72c3d2"
      },
      "source": [
        "world_dead_preds.tail()"
      ],
      "execution_count": 278,
      "outputs": [
        {
          "output_type": "execute_result",
          "data": {
            "text/html": [
              "<div>\n",
              "<style scoped>\n",
              "    .dataframe tbody tr th:only-of-type {\n",
              "        vertical-align: middle;\n",
              "    }\n",
              "\n",
              "    .dataframe tbody tr th {\n",
              "        vertical-align: top;\n",
              "    }\n",
              "\n",
              "    .dataframe thead th {\n",
              "        text-align: right;\n",
              "    }\n",
              "</style>\n",
              "<table border=\"1\" class=\"dataframe\">\n",
              "  <thead>\n",
              "    <tr style=\"text-align: right;\">\n",
              "      <th></th>\n",
              "      <th>Deaths</th>\n",
              "    </tr>\n",
              "    <tr>\n",
              "      <th>index</th>\n",
              "      <th></th>\n",
              "    </tr>\n",
              "  </thead>\n",
              "  <tbody>\n",
              "    <tr>\n",
              "      <th>2020-04-18</th>\n",
              "      <td>100591.414062</td>\n",
              "    </tr>\n",
              "    <tr>\n",
              "      <th>2020-04-19</th>\n",
              "      <td>104932.687500</td>\n",
              "    </tr>\n",
              "    <tr>\n",
              "      <th>2020-04-20</th>\n",
              "      <td>109492.945312</td>\n",
              "    </tr>\n",
              "    <tr>\n",
              "      <th>2020-04-21</th>\n",
              "      <td>114274.890625</td>\n",
              "    </tr>\n",
              "    <tr>\n",
              "      <th>2020-04-22</th>\n",
              "      <td>119250.453125</td>\n",
              "    </tr>\n",
              "  </tbody>\n",
              "</table>\n",
              "</div>"
            ],
            "text/plain": [
              "                   Deaths\n",
              "index                    \n",
              "2020-04-18  100591.414062\n",
              "2020-04-19  104932.687500\n",
              "2020-04-20  109492.945312\n",
              "2020-04-21  114274.890625\n",
              "2020-04-22  119250.453125"
            ]
          },
          "metadata": {
            "tags": []
          },
          "execution_count": 278
        }
      ]
    },
    {
      "cell_type": "markdown",
      "metadata": {
        "id": "ZVOwruVTI2XX",
        "colab_type": "text"
      },
      "source": [
        "# Plots for the World"
      ]
    },
    {
      "cell_type": "code",
      "metadata": {
        "id": "HCltH7Fp-wCU",
        "colab_type": "code",
        "colab": {
          "base_uri": "https://localhost:8080/",
          "height": 1000
        },
        "outputId": "d675d4da-0e0e-4878-e34d-367a8c8c95fe"
      },
      "source": [
        "# plot Confirmed actual cases and predictions\n",
        "fig = plt.figure(figsize=(12,20))\n",
        "\n",
        "plt.subplot(3,1,1)\n",
        "plt.plot(world_conf_preds['Confirmed'], label='Predictions', marker='*')\n",
        "plt.plot(world_confirmed['Confirmed'], label='Actual', marker='o')\n",
        "plt.xlabel('Date', fontsize=15)\n",
        "plt.ylabel('Cases Count', fontsize=15)\n",
        "plt.title('World Confirmed Cases ', fontsize=15)\n",
        "plt.legend()\n",
        "\n",
        "\n",
        "plt.subplot(3,1,2)\n",
        "plt.plot(world_recv_preds['Recovered'], label='Predictions', marker='*')\n",
        "plt.plot(world_recovered['Recovered'], label='Actual', marker='o')\n",
        "plt.xlabel('Date', fontsize=15)\n",
        "plt.ylabel('Cases Count', fontsize=15)\n",
        "plt.title('World Recovered Cases ', fontsize=15)\n",
        "plt.legend()\n",
        "\n",
        "plt.subplot(3,1,3)\n",
        "plt.plot(world_dead_preds['Deaths'], label='Predictions', marker='*')\n",
        "plt.plot(world_dead['Deaths'], label='Actual', marker='o')\n",
        "plt.xlabel('Date', fontsize=15)\n",
        "plt.ylabel('Cases Count', fontsize=15)\n",
        "plt.title('World Deaths', fontsize=15)\n",
        "plt.legend()"
      ],
      "execution_count": 277,
      "outputs": [
        {
          "output_type": "execute_result",
          "data": {
            "text/plain": [
              "<matplotlib.legend.Legend at 0x7f8ead3b2dd8>"
            ]
          },
          "metadata": {
            "tags": []
          },
          "execution_count": 277
        },
        {
          "output_type": "display_data",
          "data": {
            "image/png": "[encoded data removed]",
            "text/plain": [
              "<Figure size 864x1440 with 3 Axes>"
            ]
          },
          "metadata": {
            "tags": [],
            "needs_background": "light"
          }
        }
      ]
    },
    {
      "cell_type": "markdown",
      "metadata": {
        "id": "e68Mh1ZgW1iN",
        "colab_type": "text"
      },
      "source": [
        "# Final Thoughts"
      ]
    },
    {
      "cell_type": "markdown",
      "metadata": {
        "id": "QAfGVPg9W3hD",
        "colab_type": "text"
      },
      "source": [
        "\n",
        "\n",
        "\n",
        "*   Our Final Day in the predictions generated is April 22, 2020, which coincidentally was the day of submission of this assignment.\n",
        "\n",
        "*  We used this opportunity to compare our model to real world data and draw insightful comparisons.\n",
        "\n",
        "\n",
        "*   The Prediction plots of Italy overestimate the spread of the virus. They predict far more confirmed cases, recovered cases and deaths than in real life.\n",
        "\n",
        "*   But out model does a good job of estimating the increasing trend that is observed in real life as well.\n",
        "\n",
        "\n",
        "*   For the World Predictions, we notice a similar trend that is happening in the world right now.\n",
        "\n",
        "*   The numbers are continuing to increase, but let's hope that our model is wrong and this pandemic ends soon!\n",
        "\n",
        "\n",
        "\n",
        "\n",
        "\n"
      ]
    }
  ]
}